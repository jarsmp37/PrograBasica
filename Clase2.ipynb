{
 "cells": [
  {
   "cell_type": "code",
   "execution_count": 9,
   "id": "50e2f508",
   "metadata": {},
   "outputs": [
    {
     "name": "stdout",
     "output_type": "stream",
     "text": [
      "La edad no es válida\n"
     ]
    }
   ],
   "source": [
    "edad=int(input(\"Dame tu edad: \"))\n",
    "if (edad>0 and edad<12):\n",
    "    print(\"La cantindad a pagar son $30\")\n",
    "elif (edad>=12 and edad<=17):\n",
    "    print(\"La cantindad a pagar son $40\")\n",
    "elif (edad>=18 and edad<=59):\n",
    "    print(\"La cantindad a pagar son $60\")\n",
    "elif (edad>=60):\n",
    "    print(\"La cantindad a pagar son $35\")\n",
    "else:\n",
    "    print(\"La edad no es válida\")"
   ]
  },
  {
   "cell_type": "code",
   "execution_count": 13,
   "id": "c5366636",
   "metadata": {},
   "outputs": [
    {
     "name": "stdout",
     "output_type": "stream",
     "text": [
      " Menú de operaciones \n",
      " 1.- Sumar \n",
      " 2.- Restar \n",
      " 3.- Multiplicar \n",
      " 4.- Dividr \n",
      "No dividirás entre cero\n"
     ]
    }
   ],
   "source": [
    "print(\" Menú de operaciones \")\n",
    "print(\" 1.- Sumar \")\n",
    "print(\" 2.- Restar \")\n",
    "print(\" 3.- Multiplicar \")\n",
    "print(\" 4.- Dividr \")\n",
    "\n",
    "a=float(input(\"Dame el primer número\"))\n",
    "b=float(input(\"Dame el segundo número\"))\n",
    "\n",
    "operacion=int(input(\"Qué operación deseas hacer?: \"))\n",
    "match operacion:\n",
    "    case 1:\n",
    "        print(f\"El resultado de sumar {a} con {b} es: {a+b}\")\n",
    "    case 2:\n",
    "        print(f\"El resultado de restar {a} con {b} es: {a-b}\")\n",
    "    case 3:\n",
    "        print(f\"El resultado de multiplicar {a} con {b} es: {a*b}\")\n",
    "    case 4:\n",
    "        if b != 0:\n",
    "            print(f\"El resultado de dividir {a} con {b} es: {a/b}\")\n",
    "        else:\n",
    "            print(\"No dividirás entre cero\")\n",
    "    case _:\n",
    "        print(\"operación no válida\")"
   ]
  },
  {
   "cell_type": "code",
   "execution_count": 1,
   "id": "a101d7dd",
   "metadata": {},
   "outputs": [
    {
     "name": "stdout",
     "output_type": "stream",
     "text": [
      "El número 2 es par\n",
      "El número 4 es par\n",
      "El número 6 es par\n",
      "El número 8 es par\n",
      "El número 10 es par\n",
      "El número 12 es par\n",
      "El número 14 es par\n",
      "El número 16 es par\n",
      "El número 18 es par\n",
      "El número 20 es par\n"
     ]
    }
   ],
   "source": [
    "#Programa para contar los números pares\n",
    "n=int(input(\"Dame un entero positivo hasta donde contar los pares: \"))\n",
    "for x in range(n):\n",
    "    if (x+1)%2==0:\n",
    "        print(f\"El número {x+1} es par\")"
   ]
  },
  {
   "cell_type": "code",
   "execution_count": 2,
   "id": "c252ae4a",
   "metadata": {},
   "outputs": [
    {
     "name": "stdout",
     "output_type": "stream",
     "text": [
      "1x13=13\n",
      "2x13=26\n",
      "3x13=39\n",
      "4x13=52\n",
      "5x13=65\n",
      "6x13=78\n",
      "7x13=91\n",
      "8x13=104\n",
      "9x13=117\n",
      "10x13=130\n"
     ]
    }
   ],
   "source": [
    "#Generar las tablas de multiplicar del 1 al 10 por el número que de el usuario\n",
    "m=int(input(\"Dame el número que quieres su tabla del 1 al 10\"))\n",
    "for y in range(10):\n",
    "    print(f\"{y+1}x{m}={(y+1)*m}\")"
   ]
  },
  {
   "cell_type": "code",
   "execution_count": 5,
   "id": "39087601",
   "metadata": {},
   "outputs": [
    {
     "name": "stdout",
     "output_type": "stream",
     "text": [
      "El resultado de la suma hasta el número 100 es 5050\n"
     ]
    }
   ],
   "source": [
    "o=int(input(\"Hasta que número quieres que sume?: \"))\n",
    "k=0\n",
    "for i in range(o):\n",
    "    k=k+i+1\n",
    "print(f\"El resultado de la suma hasta el número {o} es {k}\")"
   ]
  },
  {
   "cell_type": "code",
   "execution_count": 6,
   "id": "9a76f5aa",
   "metadata": {},
   "outputs": [
    {
     "name": "stdout",
     "output_type": "stream",
     "text": [
      "Calcular el área de las figuras geométricas\n",
      "1.- Cuadrado\n",
      "2.- Rectángulo\n",
      "3.- Círculo\n",
      "El área del círculo de radio 4.0 es 50.2656\n"
     ]
    }
   ],
   "source": [
    "print(\"Calcular el área de las figuras geométricas\")\n",
    "print(\"1.- Cuadrado\")\n",
    "print(\"2.- Rectángulo\")\n",
    "print(\"3.- Círculo\")\n",
    "\n",
    "x=int(input(\"Elige cuál figura quieres su área?: \"))\n",
    "\n",
    "match x:\n",
    "    case 1:\n",
    "        a=float(input(\"Dame el lado del cuadrado: \"))\n",
    "        print(f\"El área del cuadrado de lado {a} es {a*a}\")\n",
    "\n",
    "    case 2:\n",
    "        b=float(input(\"Dame la base del rectángulo: \"))\n",
    "        c=float(input(\"Dame la altura del rectángulo: \"))\n",
    "        print(f\"El área del rectángulo es {b*c}\")\n",
    "\n",
    "    case 3:\n",
    "        d=float(input(\"Dame el radio del círculo: \"))\n",
    "        print(f\"El área del círculo de radio {d} es {3.1416*(d**2)}\")\n",
    "    case _:\n",
    "        print(\"Opción inválida\")\n"
   ]
  },
  {
   "cell_type": "code",
   "execution_count": 4,
   "id": "f7db5cdb",
   "metadata": {},
   "outputs": [
    {
     "name": "stdout",
     "output_type": "stream",
     "text": [
      "la palabra MurcIelago tiene 5 vocales\n"
     ]
    }
   ],
   "source": [
    "vocales=\"aeiou\"\n",
    "palabra=input(\"Introduce tu palabra: \")\n",
    "\n",
    "contador=0\n",
    "\n",
    "for letra in palabra.lower():\n",
    "    if letra in vocales:\n",
    "        contador+=1\n",
    "\n",
    "print(f\"la palabra {palabra} tiene {contador} vocales\")\n"
   ]
  },
  {
   "cell_type": "markdown",
   "id": "7355f66c",
   "metadata": {},
   "source": [
    "# Ciclo `while` en Python\n",
    "\n",
    "El ciclo `while` en Python se utiliza para **repetir un bloque de código mientras una condición sea verdadera**.  \n",
    "A diferencia del `for`, no se conoce de antemano cuántas veces se repetirá el ciclo, depende de la condición.\n",
    "\n",
    "---\n",
    "\n",
    "## Sintaxis del ciclo `while`\n",
    "\n",
    "```python\n",
    "while condición:\n",
    "    # Bloque de instrucciones\n"
   ]
  },
  {
   "cell_type": "markdown",
   "id": "e4d9cfc0",
   "metadata": {},
   "source": [
    "| Parte                | Descripción                                                                      |\n",
    "| -------------------- | -------------------------------------------------------------------------------- |\n",
    "| **Inicialización**   | Definir una variable de control antes de iniciar el ciclo.                       |\n",
    "| **Condición**        | Expresión lógica que se evalúa en cada iteración.                                |\n",
    "| **Bloque de código** | Conjunto de instrucciones que se ejecutan mientras la condición sea `True`.      |\n",
    "| **Actualización**    | Cambio en la variable de control dentro del ciclo, para evitar bucles infinitos. |\n"
   ]
  },
  {
   "cell_type": "code",
   "execution_count": 5,
   "id": "a2cfba5e",
   "metadata": {},
   "outputs": [
    {
     "name": "stdout",
     "output_type": "stream",
     "text": [
      "Número: 1\n",
      "Número: 2\n",
      "Número: 3\n",
      "Número: 4\n",
      "Número: 5\n"
     ]
    }
   ],
   "source": [
    "contador = 1  # Inicialización\n",
    "\n",
    "while contador <= 5:  # Condición\n",
    "    print(\"Número:\", contador)  # Bloque de código\n",
    "    contador += 1  # Actualización\n"
   ]
  },
  {
   "cell_type": "code",
   "execution_count": null,
   "id": "6d85d832",
   "metadata": {},
   "outputs": [],
   "source": [
    "contador = 1\n",
    "\n",
    "while contador <= 5:\n",
    "    print(\"Número:\", contador)\n",
    "    # Falta la actualización (contador += 1)\n"
   ]
  },
  {
   "cell_type": "code",
   "execution_count": 8,
   "id": "837a0e3b",
   "metadata": {},
   "outputs": [
    {
     "name": "stdout",
     "output_type": "stream",
     "text": [
      "Número: 1\n",
      "Número: 2\n",
      "Número: 3\n",
      "Número: 4\n",
      "Número: 5\n",
      "Número: 6\n",
      "Número: 7\n",
      "Número: 8\n"
     ]
    }
   ],
   "source": [
    "#uso del break\n",
    "contador = 1\n",
    "\n",
    "while contador <= 10:\n",
    "    if contador == 9:\n",
    "        break\n",
    "    print(\"Número:\", contador)\n",
    "    contador += 1\n"
   ]
  },
  {
   "cell_type": "code",
   "execution_count": 9,
   "id": "d9f87a1b",
   "metadata": {},
   "outputs": [
    {
     "name": "stdout",
     "output_type": "stream",
     "text": [
      "Número: 1\n",
      "Número: 2\n",
      "Número: 4\n",
      "Número: 5\n"
     ]
    }
   ],
   "source": [
    "#uso del continue\n",
    "contador = 0\n",
    "\n",
    "while contador < 5:\n",
    "    contador += 1\n",
    "    if contador == 3:\n",
    "        continue\n",
    "    print(\"Número:\", contador)\n"
   ]
  },
  {
   "cell_type": "code",
   "execution_count": 10,
   "id": "4ce26e7f",
   "metadata": {},
   "outputs": [
    {
     "name": "stdout",
     "output_type": "stream",
     "text": [
      "Incorrecto, intenta de nuevo.\n",
      "Incorrecto, intenta de nuevo.\n",
      "Incorrecto, intenta de nuevo.\n",
      "Incorrecto, intenta de nuevo.\n",
      "Incorrecto, intenta de nuevo.\n",
      "¡Correcto! El número era 7\n"
     ]
    }
   ],
   "source": [
    "#Ejemplo adivinar número\n",
    "numero_secreto = 7\n",
    "intento = int(input(\"Adivina el número (entre 1 y 10): \"))\n",
    "\n",
    "while intento != numero_secreto:\n",
    "    print(\"Incorrecto, intenta de nuevo.\")\n",
    "    intento = int(input(\"Adivina el número (entre 1 y 10): \"))\n",
    "\n",
    "print(\"¡Correcto! El número era\", numero_secreto)\n"
   ]
  },
  {
   "cell_type": "markdown",
   "id": "2f67ecc5",
   "metadata": {},
   "source": [
    "# Ejercicios con ciclo `while`\n",
    "\n",
    "## Ejercicio 1: Contador de números pares\n",
    "Escribe un programa que use un ciclo `while` para imprimir los primeros **10 números pares** (empezando desde 2).\n",
    "\n",
    "**Salida esperada:**\n",
    "2\n",
    "4\n",
    "6\n",
    "8\n",
    "10\n",
    "12\n",
    "14\n",
    "16\n",
    "18\n",
    "20\n",
    "\n",
    "\n"
   ]
  },
  {
   "cell_type": "code",
   "execution_count": null,
   "id": "23da702f",
   "metadata": {},
   "outputs": [],
   "source": [
    "a=2\n",
    "while a<=20:\n",
    "    print(a)\n",
    "    a+=2"
   ]
  },
  {
   "cell_type": "code",
   "execution_count": 13,
   "id": "ce31da98",
   "metadata": {},
   "outputs": [
    {
     "name": "stdout",
     "output_type": "stream",
     "text": [
      "2\n",
      "4\n",
      "6\n",
      "8\n",
      "10\n",
      "12\n",
      "14\n",
      "16\n",
      "18\n",
      "20\n"
     ]
    }
   ],
   "source": [
    "a=2\n",
    "while a<=20:\n",
    "    if a%2==0:\n",
    "        print(a)\n",
    "    a+=1"
   ]
  },
  {
   "cell_type": "markdown",
   "id": "a5c66ae2",
   "metadata": {},
   "source": [
    "---\n",
    "\n",
    "## Ejercicio 2: Suma de números ingresados\n",
    "Pide al usuario que ingrese números enteros.  \n",
    "El programa debe seguir pidiendo números **hasta que el usuario ingrese el número 0**, y luego mostrar la **suma total** de los números ingresados.\n",
    "\n",
    "**Ejemplo:**\n",
    "\n",
    "Ingresa un número: 5\n",
    "\n",
    "Ingresa un número: 3\n",
    "\n",
    "Ingresa un número: -2\n",
    "\n",
    "Ingresa un número: 0\n",
    "\n",
    "La suma total es: 6\n",
    "\n",
    "\n"
   ]
  },
  {
   "cell_type": "code",
   "execution_count": 14,
   "id": "48196c5f",
   "metadata": {},
   "outputs": [
    {
     "name": "stdout",
     "output_type": "stream",
     "text": [
      "La suma total es: 27\n"
     ]
    }
   ],
   "source": [
    "suma=0\n",
    "x=int(input(\"Ingresa un número: \"))\n",
    "\n",
    "while x!=0:\n",
    "    suma+=x\n",
    "    x=int(input(\"Ingresa un número: \"))\n",
    "\n",
    "print(f\"La suma total es: {suma}\")"
   ]
  },
  {
   "cell_type": "markdown",
   "id": "1c0e6e27",
   "metadata": {},
   "source": [
    "---\n",
    "\n",
    "## Ejercicio 3: Adivina el número\n",
    "El programa debe generar un número secreto (por ejemplo `15`).  \n",
    "El usuario debe intentar adivinarlo ingresando valores por teclado.  \n",
    "El ciclo continuará hasta que el usuario ingrese el número correcto.  \n",
    "Además, el programa debe indicar si el número ingresado es **mayor o menor** al número secreto.\n",
    "\n",
    "**Ejemplo de interacción:**\n",
    "Adivina el número: 10\n",
    "\n",
    "El número secreto es mayor.\n",
    "\n",
    "Adivina el número: 20\n",
    "\n",
    "El número secreto es menor.\n",
    "\n",
    "Adivina el número: 15\n",
    "\n",
    "¡Correcto! Has adivinado el número.\n",
    "\n",
    "utilizar:\n",
    "\n",
    "\n",
    "```python\n",
    "import random\n",
    "\n",
    "numero_secreto = random.randint(1, 100)  # Genera un número entre 1 y 100\n",
    "\n",
    "intento = int(input(\"Adivina el número (entre 1 y 100): \"))"
   ]
  },
  {
   "cell_type": "code",
   "execution_count": 3,
   "id": "dcc97f4d",
   "metadata": {},
   "outputs": [
    {
     "name": "stdout",
     "output_type": "stream",
     "text": [
      "Adivinaste el número secreto es 50\n"
     ]
    }
   ],
   "source": [
    "import random\n",
    "import time\n",
    "from IPython.display import clear_output\n",
    "numero_secreto = random.randint(1, 100)  # Genera un número entre 1 y 100\n",
    "intento = int(input(\"Adivina el número (entre 1 y 100): \"))\n",
    "\n",
    "while intento!=numero_secreto:\n",
    "    if intento>numero_secreto:\n",
    "        print(\"El número secreto es menor\")\n",
    "        time.sleep(1)\n",
    "        clear_output(wait=True)        \n",
    "    else:\n",
    "        print(\"El número secreto es mayor\")\n",
    "        time.sleep(1)\n",
    "        clear_output(wait=True)  \n",
    "    intento = int(input(\"Adivina el número (entre 1 y 100): \"))\n",
    "print(f\"Adivinaste el número secreto es {numero_secreto}\")   "
   ]
  }
 ],
 "metadata": {
  "kernelspec": {
   "display_name": "Python 3",
   "language": "python",
   "name": "python3"
  },
  "language_info": {
   "codemirror_mode": {
    "name": "ipython",
    "version": 3
   },
   "file_extension": ".py",
   "mimetype": "text/x-python",
   "name": "python",
   "nbconvert_exporter": "python",
   "pygments_lexer": "ipython3",
   "version": "3.13.5"
  }
 },
 "nbformat": 4,
 "nbformat_minor": 5
}
