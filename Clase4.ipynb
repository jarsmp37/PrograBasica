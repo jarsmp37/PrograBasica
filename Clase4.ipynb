{
 "cells": [
  {
   "cell_type": "markdown",
   "id": "c2c9880b",
   "metadata": {},
   "source": [
    "### 3.3 Manejo y operaciones con cadenas en Python\n",
    "\n",
    "En Python, las **cadenas de texto (strings)** son una secuencia de caracteres que se escriben entre comillas simples `' '` o dobles `\" \"`.\n",
    "\n",
    "#### 1. Creación de cadenas\n",
    "```python\n",
    "texto1 = \"Hola\"\n",
    "texto2 = 'Mundo'\n"
   ]
  },
  {
   "cell_type": "markdown",
   "id": "e32480d3",
   "metadata": {},
   "source": [
    "2. Concatenación (unir cadenas)\n",
    "\n",
    "Se utiliza el operador + para unir dos o más cadenas."
   ]
  },
  {
   "cell_type": "code",
   "execution_count": null,
   "id": "824384ec",
   "metadata": {},
   "outputs": [],
   "source": [
    "saludo = \"Hola\" + \" \" + \"Mundo\"\n",
    "print(saludo)  # Hola Mundo\n"
   ]
  },
  {
   "cell_type": "markdown",
   "id": "840f582d",
   "metadata": {},
   "source": [
    "3. Repetición\n",
    "\n",
    "El operador * permite repetir una cadena varias veces."
   ]
  },
  {
   "cell_type": "code",
   "execution_count": 2,
   "id": "d9e0655d",
   "metadata": {},
   "outputs": [
    {
     "name": "stdout",
     "output_type": "stream",
     "text": [
      "Python Python Python \n"
     ]
    }
   ],
   "source": [
    "eco = \"Python \" * 3\n",
    "print(eco)  # Python Python Python\n"
   ]
  },
  {
   "cell_type": "markdown",
   "id": "d594ed95",
   "metadata": {},
   "source": [
    "4. Indexación\n",
    "\n",
    "Se pueden acceder a los caracteres de una cadena usando índices (inician en 0)."
   ]
  },
  {
   "cell_type": "code",
   "execution_count": 1,
   "id": "73ef795c",
   "metadata": {},
   "outputs": [
    {
     "name": "stdout",
     "output_type": "stream",
     "text": [
      "P\n",
      "n\n"
     ]
    }
   ],
   "source": [
    "palabra = \"Python\"\n",
    "print(palabra[0])  # P\n",
    "print(palabra[-1]) # n\n"
   ]
  },
  {
   "cell_type": "markdown",
   "id": "a64ecdac",
   "metadata": {},
   "source": [
    "5. Slicing (rebanado)\n",
    "\n",
    "Permite obtener subcadenas indicando posiciones inicial y final."
   ]
  },
  {
   "cell_type": "code",
   "execution_count": 3,
   "id": "561faa8c",
   "metadata": {},
   "outputs": [
    {
     "name": "stdout",
     "output_type": "stream",
     "text": [
      "Program\n",
      "amación\n",
      "Progr\n",
      "ogra\n"
     ]
    }
   ],
   "source": [
    "palabra = \"Programación\"\n",
    "print(palabra[0:7])   # Program\n",
    "print(palabra[5:])    # amación\n",
    "print(palabra[:5])    # Progr\n",
    "print(palabra[2:6])  "
   ]
  },
  {
   "cell_type": "markdown",
   "id": "b63b8915",
   "metadata": {},
   "source": [
    "6. Funciones y métodos comunes con cadenas\n",
    "\n",
    "len(cadena) → devuelve la longitud de la cadena.\n",
    "\n",
    "cadena.upper() → convierte a mayúsculas.\n",
    "\n",
    "cadena.lower() → convierte a minúsculas.\n",
    "\n",
    "cadena.title() → convierte la primera letra de cada palabra en mayúscula.\n",
    "\n",
    "cadena.strip() → elimina espacios en blanco al inicio y final.\n",
    "\n",
    "cadena.replace(\"a\", \"o\") → reemplaza caracteres.\n",
    "\n",
    "cadena.split(\" \") → separa la cadena en una lista.\n",
    "\n",
    "\"separador\".join(lista) → une elementos de una lista en una sola cadena.\n",
    "\n"
   ]
  },
  {
   "cell_type": "code",
   "execution_count": 5,
   "id": "b0b591cd",
   "metadata": {},
   "outputs": [
    {
     "name": "stdout",
     "output_type": "stream",
     "text": [
      "23\n",
      "Python es divertido\n",
      "  PYTHON ES DIVERTIDO  \n",
      "  python es divertido  \n",
      "  Python es poderoso  \n",
      "['Python', 'es', 'divertido']\n",
      "Python es divertido\n"
     ]
    }
   ],
   "source": [
    "texto = \"  Python es divertido  \"\n",
    "\n",
    "# Longitud\n",
    "print(len(texto))\n",
    "\n",
    "# Quitar espacios extras\n",
    "print(texto.strip())\n",
    "\n",
    "# Mayúsculas y minúsculas\n",
    "print(texto.upper())\n",
    "print(texto.lower())\n",
    "\n",
    "# Reemplazar palabras\n",
    "print(texto.replace(\"divertido\", \"poderoso\"))\n",
    "\n",
    "# Dividir en palabras\n",
    "palabras = texto.split()\n",
    "print(palabras)\n",
    "\n",
    "# Unir palabras con guiones\n",
    "nuevo = \" \".join(palabras)\n",
    "print(nuevo)\n",
    "\n"
   ]
  },
  {
   "cell_type": "markdown",
   "id": "3b4e9c4f",
   "metadata": {},
   "source": [
    "7. Verificación\n",
    "\n",
    "cadena.startswith(\"texto\") → verifica si empieza con algo.\n",
    "\n",
    "cadena.endswith(\"texto\") → verifica si termina con algo.\n",
    "\n",
    "\"subcadena\" in cadena → verifica si existe una subcadena dentro de la cadena."
   ]
  },
  {
   "cell_type": "code",
   "execution_count": 7,
   "id": "4782ac7c",
   "metadata": {},
   "outputs": [
    {
     "name": "stdout",
     "output_type": "stream",
     "text": [
      "True\n",
      "False\n",
      "True\n"
     ]
    }
   ],
   "source": [
    "\n",
    "# Verificar contenido\n",
    "print(\"Python\" in texto)       # True\n",
    "print(texto.startswith(\"Py\"))  # False\n",
    "print(texto.endswith(\" \"))     # False"
   ]
  },
  {
   "cell_type": "markdown",
   "id": "5fc1c754",
   "metadata": {},
   "source": [
    "### Ejercicio: Manejo de cadenas\n",
    "\n",
    "1. Declara una cadena con el siguiente texto:\n",
    "   `\"   Bienvenidos a la clase de Python   \"`\n",
    "2. Realiza las siguientes operaciones:\n",
    "   - Elimina los espacios en blanco al inicio y al final.\n",
    "   - Convierte toda la cadena en **mayúsculas**.\n",
    "   - Reemplaza la palabra `\"Python\"` por `\"Programación\"`.\n",
    "   - Divide la cadena en palabras y guárdalas en una lista.\n",
    "   - Une la lista de palabras con guiones (`-`).\n",
    "\n",
    "3. Muestra los resultados en pantalla.\n"
   ]
  },
  {
   "cell_type": "code",
   "execution_count": 14,
   "id": "c1a48cf4",
   "metadata": {},
   "outputs": [
    {
     "name": "stdout",
     "output_type": "stream",
     "text": [
      "Bienvenidos a la clase de Python\n",
      "BIENVENIDOS A LA CLASE DE PYTHON\n",
      "BIENVENIDOS A LA CLASE DE Programación\n",
      "['BIENVENIDOS', 'A', 'LA', 'CLASE', 'DE', 'Programación']\n",
      "BIENVENIDOS-A-LA-CLASE-DE-Programación\n"
     ]
    }
   ],
   "source": [
    "texto1=\"   Bienvenidos a la clase de Python   \"\n",
    "texto2=texto1.strip()\n",
    "print(texto2)\n",
    "texto2=texto2.upper()\n",
    "print(texto2)\n",
    "texto2=texto2.replace(\"PYTHON\", \"Programación\")\n",
    "print(texto2)\n",
    "list=texto2.split()\n",
    "print(list)\n",
    "nuevo = \"-\".join(list)\n",
    "print(nuevo)\n"
   ]
  },
  {
   "cell_type": "markdown",
   "id": "e45aad77",
   "metadata": {},
   "source": [
    "### 3.4 Arreglos multidimensionales\n",
    "\n",
    "En Python, los **arreglos multidimensionales** permiten organizar los datos en más de una dimensión.  \n",
    "El más común es el **arreglo bidimensional**, que se puede ver como una tabla con filas y columnas.\n",
    "\n",
    "Se pueden representar de dos maneras:\n",
    "1. Usando **listas de listas**.\n",
    "2. Usando librerías como **NumPy**, que permiten un manejo más eficiente de matrices.\n",
    "\n",
    "---\n",
    "\n",
    "### 3.4.1 Definición de arreglos bidimensionales\n",
    "\n",
    "Un **arreglo bidimensional** es una colección de elementos organizados en **filas** y **columnas**.\n",
    "\n",
    "Ejemplo conceptual:  \n"
   ]
  },
  {
   "cell_type": "code",
   "execution_count": 5,
   "id": "d5e0ee8a",
   "metadata": {},
   "outputs": [
    {
     "data": {
      "text/plain": [
       "[[1, 2, 3], [4, 5, 6]]"
      ]
     },
     "execution_count": 5,
     "metadata": {},
     "output_type": "execute_result"
    }
   ],
   "source": [
    "#Matriz 2x3\n",
    "A=[ [1, 2, 3],\n",
    "[4, 5, 6] ]\n",
    "A"
   ]
  },
  {
   "cell_type": "code",
   "execution_count": 3,
   "id": "1c5bb6f7",
   "metadata": {},
   "outputs": [
    {
     "data": {
      "text/plain": [
       "array([[1, 2, 3],\n",
       "       [4, 5, 6]])"
      ]
     },
     "execution_count": 3,
     "metadata": {},
     "output_type": "execute_result"
    }
   ],
   "source": [
    "import numpy as np\n",
    "\n",
    "B=np.array([ [1, 2, 3],\n",
    "            [4, 5, 6] ])\n",
    "B"
   ]
  },
  {
   "cell_type": "markdown",
   "id": "fd3628fc",
   "metadata": {},
   "source": [
    "\n",
    "---\n",
    "\n",
    "### 3.4.2 Operaciones básicas con arreglos bidimensionales\n",
    "\n",
    "Algunas operaciones comunes con matrices son:\n",
    "- **Acceder a un elemento**: `matriz[fila][columna]`\n",
    "- **Recorrer toda la matriz** con ciclos `for`\n",
    "- **Suma de elementos**\n",
    "- **Transposición** (intercambiar filas por columnas)\n",
    "\n"
   ]
  },
  {
   "cell_type": "code",
   "execution_count": null,
   "id": "74234570",
   "metadata": {},
   "outputs": [
    {
     "data": {
      "text/plain": [
       "5"
      ]
     },
     "execution_count": 7,
     "metadata": {},
     "output_type": "execute_result"
    }
   ],
   "source": [
    "#Acceder \n",
    "A[1][1]"
   ]
  },
  {
   "cell_type": "code",
   "execution_count": 30,
   "id": "20b61565",
   "metadata": {},
   "outputs": [
    {
     "data": {
      "text/plain": [
       "array([[ 7.,  2., -1.,  3.],\n",
       "       [ 5.,  2.,  0.,  2.],\n",
       "       [-5.,  4.,  2., -1.],\n",
       "       [ 3.,  1.,  4.,  2.]])"
      ]
     },
     "execution_count": 30,
     "metadata": {},
     "output_type": "execute_result"
    }
   ],
   "source": [
    "\n",
    "c=np.array([[7,2,-1,3],[5,2,0,2],[-5,4,2,-1],[3,1,4,2]])\n",
    "c=c.astype(float)\n",
    "c"
   ]
  },
  {
   "cell_type": "code",
   "execution_count": null,
   "id": "0dd4942c",
   "metadata": {},
   "outputs": [
    {
     "data": {
      "text/plain": [
       "np.int64(5)"
      ]
     },
     "execution_count": 10,
     "metadata": {},
     "output_type": "execute_result"
    }
   ],
   "source": [
    "#ubicar elemento\n",
    "c[1,0]"
   ]
  },
  {
   "cell_type": "code",
   "execution_count": null,
   "id": "b1d0f2a8",
   "metadata": {},
   "outputs": [
    {
     "data": {
      "text/plain": [
       "array([5, 2, 0, 2])"
      ]
     },
     "execution_count": 11,
     "metadata": {},
     "output_type": "execute_result"
    }
   ],
   "source": [
    "#Obtener toda la fila 2\n",
    "c[1,:]"
   ]
  },
  {
   "cell_type": "code",
   "execution_count": 27,
   "id": "4efbd690",
   "metadata": {},
   "outputs": [
    {
     "data": {
      "text/plain": [
       "array([[ 7.,  2., -1.,  3.],\n",
       "       [ 5.,  2.,  0.,  2.],\n",
       "       [-5.,  4.,  2., -1.],\n",
       "       [ 3.,  1.,  4.,  2.]])"
      ]
     },
     "execution_count": 27,
     "metadata": {},
     "output_type": "execute_result"
    }
   ],
   "source": [
    "c=c.astype(float)\n",
    "c"
   ]
  },
  {
   "cell_type": "code",
   "execution_count": 31,
   "id": "e2d7198f",
   "metadata": {},
   "outputs": [
    {
     "data": {
      "text/plain": [
       "array([[ 1.        ,  0.28571429, -0.14285714,  0.42857143],\n",
       "       [ 5.        ,  2.        ,  0.        ,  2.        ],\n",
       "       [-5.        ,  4.        ,  2.        , -1.        ],\n",
       "       [ 3.        ,  1.        ,  4.        ,  2.        ]])"
      ]
     },
     "execution_count": 31,
     "metadata": {},
     "output_type": "execute_result"
    }
   ],
   "source": [
    "c[0,:]=(1/7)*c[0,:]\n",
    "c"
   ]
  },
  {
   "cell_type": "code",
   "execution_count": 32,
   "id": "1f299296",
   "metadata": {},
   "outputs": [
    {
     "data": {
      "text/plain": [
       "array([[ 1.        ,  0.28571429, -0.14285714,  0.42857143],\n",
       "       [ 0.        ,  0.57142857,  0.71428571, -0.14285714],\n",
       "       [ 0.        ,  5.42857143,  1.28571429,  1.14285714],\n",
       "       [ 0.        ,  0.14285714,  4.42857143,  0.71428571]])"
      ]
     },
     "execution_count": 32,
     "metadata": {},
     "output_type": "execute_result"
    }
   ],
   "source": [
    "c[1,:]=c[1,:]-c[1,0]*c[0,:]\n",
    "c[2,:]=c[2,:]-c[2,0]*c[0,:]\n",
    "c[3,:]=c[3,:]-c[3,0]*c[0,:]\n",
    "c"
   ]
  },
  {
   "cell_type": "code",
   "execution_count": 33,
   "id": "6eeeb377",
   "metadata": {},
   "outputs": [
    {
     "data": {
      "text/plain": [
       "array([[ 1.        ,  0.28571429, -0.14285714,  0.42857143],\n",
       "       [ 0.        ,  1.        ,  1.25      , -0.25      ],\n",
       "       [ 0.        ,  5.42857143,  1.28571429,  1.14285714],\n",
       "       [ 0.        ,  0.14285714,  4.42857143,  0.71428571]])"
      ]
     },
     "execution_count": 33,
     "metadata": {},
     "output_type": "execute_result"
    }
   ],
   "source": [
    "c[1,:]=c[1,:]/c[1,1]\n",
    "c"
   ]
  },
  {
   "cell_type": "code",
   "execution_count": 34,
   "id": "9cd02314",
   "metadata": {},
   "outputs": [
    {
     "data": {
      "text/plain": [
       "array([[ 3,  4,  5],\n",
       "       [-5,  2,  8],\n",
       "       [ 5,  3,  2]])"
      ]
     },
     "execution_count": 34,
     "metadata": {},
     "output_type": "execute_result"
    }
   ],
   "source": [
    "d=np.array([[3,4,5],[-5,2,8],[5,3,2]])\n",
    "d"
   ]
  },
  {
   "cell_type": "code",
   "execution_count": 35,
   "id": "49cef4bf",
   "metadata": {},
   "outputs": [
    {
     "data": {
      "text/plain": [
       "array([[ 4,  2,  7],\n",
       "       [-2,  6,  7],\n",
       "       [ 9,  2,  3]])"
      ]
     },
     "execution_count": 35,
     "metadata": {},
     "output_type": "execute_result"
    }
   ],
   "source": [
    "e=np.array([[4,2,7],[-2,6,7],[9,2,3]])\n",
    "e"
   ]
  },
  {
   "cell_type": "code",
   "execution_count": 39,
   "id": "08ca3746",
   "metadata": {},
   "outputs": [
    {
     "name": "stdout",
     "output_type": "stream",
     "text": [
      "el determinante de la matriz d es 15\n"
     ]
    }
   ],
   "source": [
    "print(f\"el determinante de la matriz d es {round(np.linalg.det(d))}\")"
   ]
  },
  {
   "cell_type": "code",
   "execution_count": 40,
   "id": "6063897c",
   "metadata": {},
   "outputs": [
    {
     "name": "stdout",
     "output_type": "stream",
     "text": [
      "el determinante de la matriz e es -252\n"
     ]
    }
   ],
   "source": [
    "print(f\"el determinante de la matriz e es {round(np.linalg.det(e))}\")"
   ]
  },
  {
   "cell_type": "code",
   "execution_count": null,
   "id": "85bf6a04",
   "metadata": {},
   "outputs": [
    {
     "data": {
      "text/plain": [
       "array([[49, 40, 64],\n",
       "       [48, 18,  3],\n",
       "       [32, 32, 62]])"
      ]
     },
     "execution_count": 41,
     "metadata": {},
     "output_type": "execute_result"
    }
   ],
   "source": [
    "#Multiplicación de matrices\n",
    "d@e"
   ]
  },
  {
   "cell_type": "code",
   "execution_count": null,
   "id": "cef3eab5",
   "metadata": {},
   "outputs": [
    {
     "data": {
      "text/plain": [
       "array([[-0.01587302, -0.03174603,  0.11111111],\n",
       "       [-0.27380952,  0.20238095,  0.16666667],\n",
       "       [ 0.23015873, -0.03968254, -0.11111111]])"
      ]
     },
     "execution_count": 42,
     "metadata": {},
     "output_type": "execute_result"
    }
   ],
   "source": [
    "#inversa\n",
    "np.linalg.inv(e)"
   ]
  },
  {
   "cell_type": "code",
   "execution_count": 46,
   "id": "1ae96439",
   "metadata": {},
   "outputs": [
    {
     "data": {
      "text/plain": [
       "array([[1.00000000e+00, 0.00000000e+00, 0.00000000e+00],\n",
       "       [0.00000000e+00, 1.00000000e+00, 1.11022302e-16],\n",
       "       [0.00000000e+00, 2.77555756e-17, 1.00000000e+00]])"
      ]
     },
     "execution_count": 46,
     "metadata": {},
     "output_type": "execute_result"
    }
   ],
   "source": [
    "e@np.linalg.inv(e)"
   ]
  },
  {
   "cell_type": "markdown",
   "id": "b321f060",
   "metadata": {},
   "source": [
    "---\n",
    "\n",
    "### 3.4.3 Declaración e inicialización de arreglos multidimensionales\n",
    "\n",
    "En Python podemos declarar e inicializar arreglos multidimensionales de varias formas:\n",
    "- Directamente con listas anidadas\n",
    "- Usando comprensión de listas\n",
    "- Con librerías como **NumPy**, que facilitan operaciones matemáticas\n",
    "\n",
    "---\n"
   ]
  },
  {
   "cell_type": "markdown",
   "id": "95cb24bd",
   "metadata": {},
   "source": [
    "3.4.1 Definición de arreglos bidimensionales"
   ]
  },
  {
   "cell_type": "code",
   "execution_count": null,
   "id": "8013d0dc",
   "metadata": {},
   "outputs": [],
   "source": [
    "# Definición de un arreglo bidimensional (matriz 2x3)\n",
    "matriz = [\n",
    "    [1, 2, 3],\n",
    "    [4, 5, 6]\n",
    "]\n",
    "\n",
    "print(\"Matriz:\")\n",
    "for fila in matriz:\n",
    "    print(fila)\n",
    "\n",
    "# Acceder al elemento de la fila 1, columna 2\n",
    "print(\"Elemento en [1][2]:\", matriz[1][2])  # 6\n"
   ]
  },
  {
   "cell_type": "markdown",
   "id": "168a0734",
   "metadata": {},
   "source": [
    "3.4.2 Operaciones básicas con arreglos bidimensionales"
   ]
  },
  {
   "cell_type": "code",
   "execution_count": null,
   "id": "fce98b94",
   "metadata": {},
   "outputs": [],
   "source": [
    "# Matriz de ejemplo\n",
    "matriz = [\n",
    "    [1, 2, 3],\n",
    "    [4, 5, 6]\n",
    "]\n",
    "\n",
    "# Recorrer la matriz con índices\n",
    "print(\"Recorriendo con índices:\")\n",
    "for i in range(len(matriz)):\n",
    "    for j in range(len(matriz[0])):\n",
    "        print(f\"Elemento [{i}][{j}] = {matriz[i][j]}\")\n",
    "\n",
    "# Suma de todos los elementos\n",
    "suma = 0\n",
    "for fila in matriz:\n",
    "    for valor in fila:\n",
    "        suma += valor\n",
    "print(\"Suma de los elementos:\", suma)\n",
    "\n",
    "# Transposición (convertir filas en columnas)\n",
    "transpuesta = [[matriz[j][i] for j in range(len(matriz))] for i in range(len(matriz[0]))]\n",
    "print(\"Matriz transpuesta:\", transpuesta)\n"
   ]
  },
  {
   "cell_type": "markdown",
   "id": "6912b907",
   "metadata": {},
   "source": [
    "### 3.4.3 Declaración e inicialización de arreglos multidimensionales\n",
    "\n",
    "En Python, los **arreglos multidimensionales** se pueden crear de diferentes maneras.  \n",
    "El más común es el **arreglo bidimensional (matriz)**, pero también se pueden declarar arreglos con más dimensiones.\n",
    "\n",
    "Existen tres formas principales:\n",
    "\n",
    "---\n",
    "\n",
    "#### 1. Usando listas anidadas\n",
    "Las listas de listas permiten declarar arreglos multidimensionales de manera sencilla.\n",
    "```python\n",
    "matriz = [\n",
    "    [1, 2, 3],\n",
    "    [4, 5, 6],\n",
    "    [7, 8, 9]\n",
    "]\n"
   ]
  },
  {
   "cell_type": "markdown",
   "id": "a5c3e7a3",
   "metadata": {},
   "source": [
    "2. Usando comprensión de listas\n",
    "\n",
    "Sirve para crear arreglos inicializados con valores predeterminados, como ceros o un mismo número."
   ]
  },
  {
   "cell_type": "code",
   "execution_count": null,
   "id": "89ca8074",
   "metadata": {},
   "outputs": [],
   "source": [
    "# Matriz de 3x3 con ceros\n",
    "matriz_ceros = [[0 for _ in range(3)] for _ in range(3)]\n"
   ]
  },
  {
   "cell_type": "markdown",
   "id": "ef3823a7",
   "metadata": {},
   "source": [
    "3. Usando la librería NumPy\n",
    "\n",
    "La librería NumPy es muy útil para trabajar con arreglos multidimensionales, ya que incluye operaciones matemáticas y funciones optimizadas."
   ]
  },
  {
   "cell_type": "code",
   "execution_count": 47,
   "id": "22a5dcc0",
   "metadata": {},
   "outputs": [],
   "source": [
    "import numpy as np\n",
    "\n",
    "# Matriz 3x3 con valores definidos\n",
    "matriz_numpy = np.array([[1, 2, 3], [4, 5, 6], [7, 8, 9]])\n",
    "\n",
    "# Matriz de ceros\n",
    "matriz_ceros = np.zeros((3, 3))\n",
    "\n",
    "# Matriz de unos\n",
    "matriz_unos = np.ones((2, 4))\n",
    "\n",
    "# Matriz identidad (diagonal principal en 1)\n",
    "identidad = np.eye(3)\n",
    "\n",
    "# Matriz con valores aleatorios\n",
    "matriz_random = np.random.randint(1, 10, size=(3, 3))\n"
   ]
  },
  {
   "cell_type": "markdown",
   "id": "cd920b1d",
   "metadata": {},
   "source": [
    "4. Arreglos tridimensionales o más\n",
    "\n",
    "Python también permite trabajar con más de dos dimensiones (3D, 4D, etc.), lo cual es útil en aplicaciones como procesamiento de imágenes o ciencia de datos."
   ]
  },
  {
   "cell_type": "code",
   "execution_count": null,
   "id": "90979675",
   "metadata": {},
   "outputs": [],
   "source": [
    "cubo = [\n",
    "    [[1, 2], [3, 4]],\n",
    "    [[5, 6], [7, 8]]\n",
    "]\n"
   ]
  },
  {
   "cell_type": "code",
   "execution_count": 4,
   "id": "4251ecdf",
   "metadata": {},
   "outputs": [
    {
     "data": {
      "text/plain": [
       "array([[[4, 2, 7, 9],\n",
       "        [2, 3, 5, 6],\n",
       "        [3, 8, 2, 4]],\n",
       "\n",
       "       [[7, 6, 7, 6],\n",
       "        [7, 8, 9, 7],\n",
       "        [1, 1, 6, 8]]], dtype=int32)"
      ]
     },
     "execution_count": 4,
     "metadata": {},
     "output_type": "execute_result"
    }
   ],
   "source": [
    "import numpy as np\n",
    "tensor = np.random.randint(1, 10, size=(2, 3, 4))  # Arreglo 3D\n",
    "tensor\n"
   ]
  },
  {
   "cell_type": "code",
   "execution_count": null,
   "id": "eb660209",
   "metadata": {},
   "outputs": [],
   "source": [
    "\n",
    "# 1. Declaración manual con listas\n",
    "matriz = [\n",
    "    [1, 2, 3],\n",
    "    [4, 5, 6],\n",
    "    [7, 8, 9]\n",
    "]\n",
    "print(\"Matriz declarada manualmente:\", matriz)\n",
    "\n",
    "# 2. Declaración con comprensión de listas (matriz de 4x4 con ceros)\n",
    "matriz_ceros = [[0 for _ in range(4)] for _ in range(4)]\n",
    "print(\"Matriz de ceros (4x4):\", matriz_ceros)\n",
    "\n",
    "# 3. Declaración con NumPy\n",
    "import numpy as np\n",
    "\n",
    "matriz_numpy = np.array([[1, 2, 3], [4, 5, 6], [7, 8, 9]])\n",
    "print(\"Matriz NumPy:\\n\", matriz_numpy)\n",
    "\n",
    "matriz_unos = np.ones((2, 3))\n",
    "print(\"Matriz de unos:\\n\", matriz_unos)\n",
    "\n",
    "identidad = np.eye(4)\n",
    "print(\"Matriz identidad 4x4:\\n\", identidad)\n",
    "\n",
    "matriz_random = np.random.randint(1, 10, size=(3, 3))\n",
    "print(\"Matriz aleatoria 3x3:\\n\", matriz_random)\n",
    "\n",
    "# 4. Arreglo tridimensional\n",
    "tensor = np.random.randint(1, 10, size=(2, 2, 3))\n",
    "print(\"Arreglo tridimensional (2x2x3):\\n\", tensor)\n"
   ]
  },
  {
   "cell_type": "markdown",
   "id": "2d8970bf",
   "metadata": {},
   "source": [
    "# Método de Gauss-Jordan\n",
    "\n",
    "El **método de Gauss-Jordan** es una técnica para resolver sistemas de ecuaciones lineales.  \n",
    "Se basa en transformar la **matriz aumentada** del sistema en una **matriz identidad**, mediante operaciones elementales por renglones:\n",
    "\n",
    "1. **Intercambiar renglones**: cambiar la posición de dos filas.  \n",
    "2. **Multiplicar un renglón por un escalar distinto de 0**.  \n",
    "3. **Sumar o restar un múltiplo de un renglón a otro**.  \n",
    "\n",
    "Cuando la matriz se transforma en la **matriz identidad**, las soluciones del sistema aparecen en la última columna de la matriz aumentada.  \n",
    "\n",
    "---\n",
    "\n",
    "## Ejemplo teórico\n",
    "\n",
    "Resolver el sistema de ecuaciones:\n",
    "\n",
    "\n",
    "2x + y - z = 8\n",
    "\n",
    "\n",
    "-3x - y + 2z = -11\n",
    "\n",
    "\n",
    "\n",
    "-2x + y + 2z = -3\n",
    "\n",
    "\n",
    "---\n",
    "\n",
    "### 1. Escribimos la matriz aumentada:\n",
    "\n",
    "\n",
    "\\begin{bmatrix}\n",
    "2 & 1 & -1 & | & 8 \\\\\n",
    "-3 & -1 & 2 & | & -11 \\\\\n",
    "-2 & 1 & 2 & | & -3\n",
    "\\end{bmatrix}\n",
    "\n",
    "\n",
    "---\n",
    "\n",
    "### 2. Aplicamos operaciones por renglones hasta obtener la matriz identidad:\n",
    "\n",
    "\n",
    "\\begin{bmatrix}\n",
    "1 & 0 & 0 & | & 2 \\\\\n",
    "0 & 1 & 0 & | & 3 \\\\\n",
    "0 & 0 & 1 & | & -1\n",
    "\\end{bmatrix}\n",
    "\n",
    "\n",
    "---\n",
    "\n",
    "### 3. La solución es:\n",
    "\n",
    "\n",
    "x = 2,  y = 3,  z = -1\n",
    "\n",
    "\n",
    "---\n"
   ]
  },
  {
   "cell_type": "code",
   "execution_count": null,
   "id": "7dcf9d40",
   "metadata": {},
   "outputs": [],
   "source": [
    "import numpy as np\n",
    "\n",
    "def gauss_jordan(a, b):\n",
    "    # Creamos la matriz aumentada\n",
    "    n = len(b)\n",
    "    M = np.hstack([a.astype(float), b.reshape(-1,1)])\n",
    "    \n",
    "    for i in range(n):\n",
    "        # Hacemos que el pivote sea 1\n",
    "        M[i] = M[i] / M[i, i]\n",
    "        \n",
    "        # Hacemos ceros en la columna i, excepto en la diagonal\n",
    "        for j in range(n):\n",
    "            if i != j:\n",
    "                M[j] = M[j] - M[j, i] * M[i]\n",
    "    \n",
    "    # La última columna es la solución\n",
    "    return M[:, -1]"
   ]
  },
  {
   "cell_type": "code",
   "execution_count": 49,
   "id": "519ac069",
   "metadata": {},
   "outputs": [
    {
     "name": "stdout",
     "output_type": "stream",
     "text": [
      "Solución del sistema:\n",
      "x = 2.0, y = 3.0, z = -1.0\n"
     ]
    }
   ],
   "source": [
    "# Ejemplo\n",
    "A = np.array([[2, 1, -1],\n",
    "              [-3, -1, 2],\n",
    "              [-2, 1, 2]], dtype=float)\n",
    "\n",
    "B = np.array([8, -11, -3], dtype=float)\n",
    "\n",
    "solucion = gauss_jordan(A, B)\n",
    "print(\"Solución del sistema:\")\n",
    "print(f\"x = {solucion[0]}, y = {solucion[1]}, z = {solucion[2]}\")"
   ]
  }
 ],
 "metadata": {
  "kernelspec": {
   "display_name": "Python 3",
   "language": "python",
   "name": "python3"
  },
  "language_info": {
   "codemirror_mode": {
    "name": "ipython",
    "version": 3
   },
   "file_extension": ".py",
   "mimetype": "text/x-python",
   "name": "python",
   "nbconvert_exporter": "python",
   "pygments_lexer": "ipython3",
   "version": "3.13.5"
  }
 },
 "nbformat": 4,
 "nbformat_minor": 5
}
