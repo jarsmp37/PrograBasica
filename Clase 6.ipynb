{
 "cells": [
  {
   "cell_type": "markdown",
   "id": "8f742553",
   "metadata": {},
   "source": [
    "# 4.1 Introducción al manejo de memoria dinámica en Python\n",
    "\n",
    "## 🔹 ¿Qué es la memoria dinámica?\n",
    "\n",
    "La **memoria dinámica** es aquella que se reserva y libera durante la **ejecución del programa** (no al inicio).  \n",
    "En lenguajes como **C o C++**, el programador debe usar funciones como `malloc()` o `free()` para administrar la memoria.  \n",
    "En cambio, en **Python**, el manejo de memoria dinámica se hace **automáticamente**.\n",
    "\n",
    "---\n",
    "\n",
    "## 🔹 ¿Cómo maneja Python la memoria?\n",
    "\n",
    "Python utiliza un **administrador automático de memoria**, que se encarga de:\n",
    "\n",
    "1. **Reservar memoria** cuando se crean objetos, variables o estructuras de datos.  \n",
    "2. **Liberar memoria** cuando esos objetos ya no se usan (proceso conocido como *garbage collection* o recolección de basura).  \n",
    "\n",
    "### Ejemplo:\n",
    "```python\n",
    "a = [1, 2, 3]   # Se reserva memoria para una lista\n",
    "b = a            # 'b' apunta a la misma dirección de memoria que 'a'\n",
    "a = None         # 'a' deja de apuntar a la lista\n"
   ]
  },
  {
   "cell_type": "markdown",
   "id": "544e114a",
   "metadata": {},
   "source": [
    "Recolección de basura (Garbage Collection)\n",
    "\n",
    "El Garbage Collector (GC) es un proceso interno de Python que detecta los objetos que ya no se usan y libera automáticamente su memoria."
   ]
  },
  {
   "cell_type": "code",
   "execution_count": null,
   "id": "0afe71ff",
   "metadata": {},
   "outputs": [],
   "source": [
    "import gc\n",
    "\n",
    "# Forzamos la recolección de basura manualmente\n",
    "gc.collect()\n"
   ]
  },
  {
   "cell_type": "markdown",
   "id": "b9dbf7db",
   "metadata": {},
   "source": [
    "Contador de referencias\n",
    "\n",
    "Cada objeto en Python tiene un contador de referencias, que indica cuántas variables apuntan a él.\n",
    "Cuando el contador llega a cero, el objeto se libera."
   ]
  },
  {
   "cell_type": "code",
   "execution_count": 1,
   "id": "5540fce4",
   "metadata": {},
   "outputs": [
    {
     "name": "stdout",
     "output_type": "stream",
     "text": [
      "2\n"
     ]
    }
   ],
   "source": [
    "import sys\n",
    "\n",
    "x = [10, 20, 30]\n",
    "print(sys.getrefcount(x))  # Muestra cuántas referencias hay a la lista\n"
   ]
  },
  {
   "cell_type": "markdown",
   "id": "31dadf37",
   "metadata": {},
   "source": [
    "Asignación dinámica de estructuras\n",
    "\n",
    "Como Python maneja la memoria automáticamente, estructuras como listas, diccionarios o clases pueden crecer y reducirse dinámicamente sin intervención manual."
   ]
  },
  {
   "cell_type": "code",
   "execution_count": 2,
   "id": "488bb173",
   "metadata": {},
   "outputs": [
    {
     "name": "stdout",
     "output_type": "stream",
     "text": [
      "[0, 1, 2, 3, 4]\n"
     ]
    }
   ],
   "source": [
    "numeros = []  # Lista vacía\n",
    "for i in range(5):\n",
    "    numeros.append(i)  # Python asigna memoria según sea necesario\n",
    "print(numeros)\n"
   ]
  },
  {
   "cell_type": "markdown",
   "id": "8e4e1a7b",
   "metadata": {},
   "source": [
    "4.1.3 Usos y aplicaciones del manejo de memoria dinámica en Python\n",
    "\n",
    "El manejo de memoria dinámica permite que los programas en Python gestionen eficientemente los recursos de memoria durante la ejecución.\n",
    "A diferencia de la memoria estática (reservada en tiempo de compilación), la memoria dinámica se reserva y libera en tiempo de ejecución, adaptándose a las necesidades cambiantes del programa.\n",
    "\n",
    "🔹 ¿Por qué es importante?\n",
    "\n",
    "La memoria dinámica permite:\n",
    "\n",
    "Trabajar con estructuras de datos cuyo tamaño no se conoce de antemano.\n",
    "\n",
    "Optimizar el uso de la memoria disponible.\n",
    "\n",
    "Evitar desperdicio de espacio en memoria.\n",
    "\n",
    "Mejorar el rendimiento en programas con grandes volúmenes de datos.\n",
    "\n",
    "🔹 Ejemplos de uso en Python\n",
    "\n",
    "Aunque Python gestiona automáticamente la memoria mediante su recolector de basura (garbage collector), los programadores pueden usar estructuras dinámicas que aprovechan esta flexibilidad.\n",
    "\n",
    "🧩 1. Listas dinámicas\n",
    "\n",
    "Las listas (list) en Python son un ejemplo clásico de estructuras dinámicas:"
   ]
  },
  {
   "cell_type": "code",
   "execution_count": null,
   "id": "5aa16466",
   "metadata": {},
   "outputs": [],
   "source": [
    "# Crear una lista vacía\n",
    "numeros = []\n",
    "\n",
    "# Agregar elementos dinámicamente\n",
    "for i in range(5):\n",
    "    numeros.append(i * 2)\n",
    "\n",
    "print(\"Lista dinámica:\", numeros)\n"
   ]
  },
  {
   "cell_type": "markdown",
   "id": "d42be3b8",
   "metadata": {},
   "source": [
    "2. Diccionarios\n",
    "\n",
    "Los diccionarios permiten agregar o eliminar pares clave-valor dinámicamente:"
   ]
  },
  {
   "cell_type": "code",
   "execution_count": null,
   "id": "fde42dcc",
   "metadata": {},
   "outputs": [],
   "source": [
    "# Creación de un diccionario dinámico\n",
    "persona = {\"nombre\": \"Ana\"}\n",
    "persona[\"edad\"] = 25\n",
    "persona[\"ciudad\"] = \"Puebla\"\n",
    "\n",
    "del persona[\"edad\"]  # Liberar memoria eliminando una clave\n",
    "\n",
    "print(persona)\n"
   ]
  },
  {
   "cell_type": "markdown",
   "id": "d0dfbc63",
   "metadata": {},
   "source": [
    "3. Clases con memoria dinámica\n",
    "\n",
    "Las clases también pueden crear atributos en tiempo de ejecución:"
   ]
  },
  {
   "cell_type": "code",
   "execution_count": null,
   "id": "64d39bb5",
   "metadata": {},
   "outputs": [],
   "source": [
    "class Alumno:\n",
    "    pass\n",
    "\n",
    "a1 = Alumno()\n",
    "a1.nombre = \"Carlos\"\n",
    "a1.materias = [\"Programación\", \"Cálculo\"]\n",
    "\n",
    "print(a1.__dict__)\n"
   ]
  },
  {
   "cell_type": "markdown",
   "id": "6f57457f",
   "metadata": {},
   "source": [
    "4. Uso con numpy y estructuras grandes\n",
    "\n",
    "En aplicaciones científicas o de ciencia de datos, el uso de arreglos dinámicos permite reservar memoria solo cuando se necesita:"
   ]
  },
  {
   "cell_type": "code",
   "execution_count": null,
   "id": "85340678",
   "metadata": {},
   "outputs": [],
   "source": [
    "import numpy as np\n",
    "\n",
    "# Crear un arreglo grande solo cuando sea necesario\n",
    "datos = np.zeros((1000, 1000))\n",
    "print(\"Memoria utilizada dinámicamente para un arreglo de datos.\")\n"
   ]
  },
  {
   "cell_type": "markdown",
   "id": "db009a6d",
   "metadata": {},
   "source": [
    "| **Campo**                            | **Aplicación**                                       | **Ejemplo**                                 |\n",
    "| ------------------------------------ | ---------------------------------------------------- | ------------------------------------------- |\n",
    "| **Ciencia de datos**                 | Manejo de grandes volúmenes de información           | `DataFrames` de **Pandas**                  |\n",
    "| **Inteligencia Artificial**          | Almacenamiento dinámico de pesos y matrices          | Redes neuronales                            |\n",
    "| **Programación orientada a objetos** | Creación dinámica de instancias y atributos          | Clases y objetos                            |\n",
    "| **Desarrollo web**                   | Gestión de usuarios y sesiones en tiempo real        | Frameworks como **Django** o **Flask**      |\n",
    "| **Juegos o simulaciones**            | Creación y eliminación de entidades durante el juego | Objetos dinámicos (enemigos, niveles, etc.) |\n"
   ]
  },
  {
   "cell_type": "markdown",
   "id": "a03dba34",
   "metadata": {},
   "source": [
    "Función del\n",
    "\n",
    "La instrucción del elimina una referencia a un objeto.\n",
    "Esto no siempre libera la memoria inmediatamente, pero reduce el conteo de referencias del objeto."
   ]
  },
  {
   "cell_type": "code",
   "execution_count": null,
   "id": "c7fa9bf5",
   "metadata": {},
   "outputs": [],
   "source": [
    "x = [10, 20, 30]\n",
    "print(x)\n",
    "del x\n",
    "# print(x)  #Provoca error porque x ya no existe\n"
   ]
  },
  {
   "cell_type": "code",
   "execution_count": null,
   "id": "92177a66",
   "metadata": {},
   "outputs": [],
   "source": [
    "import gc\n",
    "\n",
    "# Crear una lista grande\n",
    "data = [i for i in range(1000000)]\n",
    "print(\"Lista creada\")\n",
    "\n",
    "# Eliminar referencia\n",
    "del data\n",
    "print(\"Referencia eliminada\")\n",
    "\n",
    "# Forzar limpieza\n",
    "gc.collect()\n",
    "print(\"Memoria liberada con éxito\")\n"
   ]
  }
 ],
 "metadata": {
  "kernelspec": {
   "display_name": "Python 3",
   "language": "python",
   "name": "python3"
  },
  "language_info": {
   "codemirror_mode": {
    "name": "ipython",
    "version": 3
   },
   "file_extension": ".py",
   "mimetype": "text/x-python",
   "name": "python",
   "nbconvert_exporter": "python",
   "pygments_lexer": "ipython3",
   "version": "3.13.5"
  }
 },
 "nbformat": 4,
 "nbformat_minor": 5
}
