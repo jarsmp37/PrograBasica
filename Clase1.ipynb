{
 "cells": [
  {
   "cell_type": "markdown",
   "id": "7125f81f",
   "metadata": {},
   "source": [
    "## Inicios"
   ]
  },
  {
   "cell_type": "markdown",
   "id": "54960a25",
   "metadata": {},
   "source": [
    "Comando básico en python para imprimir en consola\n",
    "\n",
    "print(\" texto \")"
   ]
  },
  {
   "cell_type": "code",
   "execution_count": 1,
   "id": "da74512f",
   "metadata": {},
   "outputs": [
    {
     "name": "stdout",
     "output_type": "stream",
     "text": [
      "hola estudio ciencia de datos\n",
      "mi nombre es ....\n",
      "mi edad es....\n"
     ]
    }
   ],
   "source": [
    "print('hola estudio ciencia de datos')\n",
    "print(\"mi nombre es ....\")\n",
    "print(\"mi edad es....\")"
   ]
  },
  {
   "cell_type": "markdown",
   "id": "d2b34405",
   "metadata": {},
   "source": [
    "Tipos de datos\n",
    "\n",
    "int.- Enteros\n",
    "\n",
    "str.- Cadena de caracter\n",
    "\n",
    "float.- Decimal\n",
    "\n",
    "bool.- Booleano"
   ]
  },
  {
   "cell_type": "code",
   "execution_count": null,
   "id": "cf4efa68",
   "metadata": {},
   "outputs": [],
   "source": [
    "a=3\n",
    "b=\"Hola\"\n",
    "c=12.432423\n",
    "d=True\n"
   ]
  },
  {
   "cell_type": "markdown",
   "id": "e0072579",
   "metadata": {},
   "source": [
    "Comando para evaluar que tipo de dato"
   ]
  },
  {
   "cell_type": "code",
   "execution_count": 8,
   "id": "ccba475b",
   "metadata": {},
   "outputs": [
    {
     "name": "stdout",
     "output_type": "stream",
     "text": [
      "<class 'bool'>\n"
     ]
    }
   ],
   "source": [
    "print(type(d))"
   ]
  },
  {
   "cell_type": "code",
   "execution_count": 5,
   "id": "28bbaba6",
   "metadata": {},
   "outputs": [
    {
     "name": "stdout",
     "output_type": "stream",
     "text": [
      "<class 'float'>\n"
     ]
    }
   ],
   "source": [
    "print(type(c))"
   ]
  },
  {
   "cell_type": "code",
   "execution_count": 12,
   "id": "e3603045",
   "metadata": {},
   "outputs": [
    {
     "name": "stdout",
     "output_type": "stream",
     "text": [
      "5\n"
     ]
    }
   ],
   "source": [
    "print(a+int(f))"
   ]
  },
  {
   "cell_type": "code",
   "execution_count": 11,
   "id": "91ad4c77",
   "metadata": {},
   "outputs": [
    {
     "name": "stdout",
     "output_type": "stream",
     "text": [
      "32\n"
     ]
    }
   ],
   "source": [
    "print(str(a)+f)"
   ]
  },
  {
   "cell_type": "code",
   "execution_count": 9,
   "id": "0c7df254",
   "metadata": {},
   "outputs": [
    {
     "name": "stdout",
     "output_type": "stream",
     "text": [
      "El resultado de la suma es: 7 siendo entera la suma\n"
     ]
    }
   ],
   "source": [
    "a=3\n",
    "b=4\n",
    "c=a+b\n",
    "print(\"El resultado de la suma es:\",c,\"siendo entera la suma\")"
   ]
  },
  {
   "cell_type": "code",
   "execution_count": 14,
   "id": "c66c941c",
   "metadata": {},
   "outputs": [
    {
     "name": "stdout",
     "output_type": "stream",
     "text": [
      "La suma es:  8\n",
      "La resta es:  2\n",
      "La multiplicación es:  15\n",
      "La división es:  1.6666666666666667\n",
      "La división entera es:  1\n",
      "El restante es:  2\n",
      "La potencia es:  125\n"
     ]
    }
   ],
   "source": [
    "a=int(input(\"Dame tu primer número: \"))\n",
    "b=int(input(\"Dame tu segundo número: \"))\n",
    "print(\"La suma es: \",a+b)\n",
    "print(\"La resta es: \",a-b)\n",
    "print(\"La multiplicación es: \",a*b)\n",
    "print(\"La división es: \",a/b)\n",
    "print(\"La división entera es: \",a//b)\n",
    "print(\"El restante es: \",a%b)\n",
    "print(\"La potencia es: \",a**b)\n"
   ]
  },
  {
   "cell_type": "code",
   "execution_count": 17,
   "id": "e9d95a95",
   "metadata": {},
   "outputs": [
    {
     "name": "stdout",
     "output_type": "stream",
     "text": [
      "a es igual a b:  False\n",
      "a es diferente a b:  True\n",
      "a es mayor que b:  True\n",
      "a es menor que b:  False\n",
      "a es mayor o igual que b:  True\n",
      "a es menor o igual que b:  False\n"
     ]
    }
   ],
   "source": [
    "a=int(input(\"Dame tu primer número: \"))\n",
    "b=int(input(\"Dame tu segundo número: \"))\n",
    "print(\"a es igual a b: \",a==b)\n",
    "print(\"a es diferente a b: \",a!=b)\n",
    "print(\"a es mayor que b: \",a>b)\n",
    "print(\"a es menor que b: \",a<b)\n",
    "print(\"a es mayor o igual que b: \",a>=b)\n",
    "print(\"a es menor o igual que b: \",a<=b)"
   ]
  },
  {
   "cell_type": "markdown",
   "id": "7cc954ea",
   "metadata": {},
   "source": [
    "# Operadores en Python\n",
    "\n",
    "## Tipos de operadores\n",
    "\n",
    "### 1. Operadores aritméticos\n",
    "Los operadores aritméticos se utilizan para realizar operaciones matemáticas básicas.\n",
    "\n",
    "| Operador | Descripción           | Ejemplo |\n",
    "|----------|-----------------------|---------|\n",
    "| `+`      | Suma                  | `a + b` |\n",
    "| `-`      | Resta                 | `a - b` |\n",
    "| `*`      | Multiplicación        | `a * b` |\n",
    "| `/`      | División              | `a / b` |\n",
    "| `%`      | Módulo (resto)        | `a % b` |\n",
    "| `**`     | Exponente             | `a ** b`|\n",
    "| `//`     | División entera       | `a // b`|\n",
    "\n",
    "### 2. Operadores relacionales (de comparación)\n",
    "Los operadores relacionales comparan valores y devuelven `True` o `False`.\n",
    "\n",
    "| Operador | Descripción               | Ejemplo  |\n",
    "|----------|---------------------------|----------|\n",
    "| `==`     | Igual que                 | `a == b` |\n",
    "| `!=`     | Diferente que             | `a != b` |\n",
    "| `>`      | Mayor que                 | `a > b`  |\n",
    "| `<`      | Menor que                 | `a < b`  |\n",
    "| `>=`     | Mayor o igual que         | `a >= b` |\n",
    "| `<=`     | Menor o igual que         | `a <= b` |\n",
    "\n",
    "### 3. Operadores lógicos\n",
    "Los operadores lógicos se utilizan para combinar expresiones condicionales.\n",
    "\n",
    "| Operador | Descripción                      | Ejemplo       |\n",
    "|----------|----------------------------------|---------------|\n",
    "| `and`    | Verdadero si ambos son verdaderos| `a and b`     |\n",
    "| `or`     | Verdadero si al menos uno es verdadero | `a or b` |\n",
    "| `not`    | Invierte el resultado (negación) | `not a`       |"
   ]
  },
  {
   "cell_type": "code",
   "execution_count": 29,
   "id": "aef98c7c",
   "metadata": {},
   "outputs": [
    {
     "name": "stdout",
     "output_type": "stream",
     "text": [
      "El resultado de la operación es  True\n"
     ]
    }
   ],
   "source": [
    "c=False\n",
    "d=True\n",
    "#print(\"si c es \",c,\" y d es \",d,\"el resultado del and es\",c and d)\n",
    "#print(\"si c es \",c,\"el resultado del not c es\",not c)\n",
    "#print(\"si c es \",c,\" y d es \",d,\"el resultado del or es\",c or d)\n",
    "#print(\"si d es \",d,\"el resultado del not d es\",not d)\n",
    "\n",
    "f=((c or d)and not c) or (not c and d)\n",
    "print(\"El resultado de la operación es \",f)"
   ]
  },
  {
   "cell_type": "code",
   "execution_count": 1,
   "id": "110221ec",
   "metadata": {},
   "outputs": [
    {
     "name": "stdout",
     "output_type": "stream",
     "text": [
      "Suma: 13\n",
      "Resta: 7\n",
      "Multiplicación: 30\n",
      "División: 3.3333333333333335\n",
      "Módulo: 1\n",
      "Exponente: 1000\n",
      "División entera: 3\n"
     ]
    }
   ],
   "source": [
    "# Operadores aritméticos\n",
    "a = 10\n",
    "b = 3\n",
    "\n",
    "print(\"Suma:\", a + b)          \n",
    "print(\"Resta:\", a - b)         \n",
    "print(\"Multiplicación:\", a * b) \n",
    "print(\"División:\", a / b)      \n",
    "print(\"Módulo:\", a % b)        \n",
    "print(\"Exponente:\", a ** b)    \n",
    "print(\"División entera:\", a // b) "
   ]
  },
  {
   "cell_type": "code",
   "execution_count": 2,
   "id": "bbe4a4ea",
   "metadata": {},
   "outputs": [
    {
     "name": "stdout",
     "output_type": "stream",
     "text": [
      "Igual que: False\n",
      "Diferente que: True\n",
      "Mayor que: False\n",
      "Menor que: True\n",
      "Mayor o igual: False\n",
      "Menor o igual: True\n"
     ]
    }
   ],
   "source": [
    "# Operadores relacionales\n",
    "x = 5\n",
    "y = 8\n",
    "\n",
    "print(\"Igual que:\", x == y)    \n",
    "print(\"Diferente que:\", x != y) \n",
    "print(\"Mayor que:\", x > y)     \n",
    "print(\"Menor que:\", x < y)    \n",
    "print(\"Mayor o igual:\", x >= y) \n",
    "print(\"Menor o igual:\", x <= y) "
   ]
  },
  {
   "cell_type": "code",
   "execution_count": 3,
   "id": "4416dbf6",
   "metadata": {},
   "outputs": [
    {
     "name": "stdout",
     "output_type": "stream",
     "text": [
      "AND: False\n",
      "OR: True\n",
      "NOT p: False\n",
      "NOT q: True\n",
      "Puede conducir: True\n"
     ]
    }
   ],
   "source": [
    "# Operadores lógicos\n",
    "p = True\n",
    "q = False\n",
    "\n",
    "print(\"AND:\", p and q)         \n",
    "print(\"OR:\", p or q)           \n",
    "print(\"NOT p:\", not p)         \n",
    "print(\"NOT q:\", not q)         \n",
    "\n",
    "# Combinando operadores\n",
    "edad = 25\n",
    "tiene_licencia = True\n",
    "\n",
    "puede_conducir = edad >= 18 and tiene_licencia\n",
    "print(\"Puede conducir:\", puede_conducir)  "
   ]
  },
  {
   "cell_type": "markdown",
   "id": "392c67db",
   "metadata": {},
   "source": [
    "## Estructuras de Control\n",
    "\n",
    "### Condicionales\n",
    "1. `if`: Ejecuta código si la condición es verdadera\n",
    "2. `if-else`: Ejecuta un bloque u otro según la condición\n",
    "3. `if-elif-else`: Evalúa múltiples condiciones en orden\n",
    "\n"
   ]
  },
  {
   "cell_type": "markdown",
   "id": "da2f890b",
   "metadata": {},
   "source": [
    "#### Estructura básica if:\n",
    "```python\n",
    "if condición:\n",
    "    # código a ejecutar si la condición es True"
   ]
  },
  {
   "attachments": {
    "image.png": {
     "image/png": "[encoded data removed]"
    }
   },
   "cell_type": "markdown",
   "id": "d9d4c60e",
   "metadata": {},
   "source": [
    "![image.png](attachment:image.png)"
   ]
  },
  {
   "cell_type": "code",
   "execution_count": null,
   "id": "98ecf957",
   "metadata": {},
   "outputs": [],
   "source": [
    "# 1. if simple\n",
    "edad = 20\n",
    "if edad >= 18:\n",
    "    print(\"Puede entrar\")"
   ]
  },
  {
   "cell_type": "markdown",
   "id": "3c575d8e",
   "metadata": {},
   "source": [
    "#### Estructura if-else:\n",
    "```python\n",
    "if condición:\n",
    "    # bloque si True\n",
    "else:\n",
    "    # bloque si False"
   ]
  },
  {
   "attachments": {
    "image.png": {
     "image/png": "[encoded data removed]"
    }
   },
   "cell_type": "markdown",
   "id": "ac480c08",
   "metadata": {},
   "source": [
    "![image.png](attachment:image.png)"
   ]
  },
  {
   "cell_type": "code",
   "execution_count": null,
   "id": "79d37564",
   "metadata": {},
   "outputs": [],
   "source": [
    "# 2. if-else\n",
    "temperatura = 35\n",
    "if temperatura > 30:\n",
    "    print(\"Día caluroso\")\n",
    "else:\n",
    "    print(\"Día fresco\")"
   ]
  },
  {
   "cell_type": "markdown",
   "id": "817b1df4",
   "metadata": {},
   "source": [
    "#### Estructura:\n",
    "```python\n",
    "if condición1:\n",
    "    # bloque 1\n",
    "elif condición2:\n",
    "    # bloque 2\n",
    "else:\n",
    "    # bloque por defecto"
   ]
  },
  {
   "attachments": {
    "image.png": {
     "image/png": "[encoded data removed]"
    }
   },
   "cell_type": "markdown",
   "id": "03030813",
   "metadata": {},
   "source": [
    "![image.png](attachment:image.png)"
   ]
  },
  {
   "cell_type": "code",
   "execution_count": 6,
   "id": "835ed836",
   "metadata": {},
   "outputs": [
    {
     "name": "stdout",
     "output_type": "stream",
     "text": [
      "Buenos días\n"
     ]
    }
   ],
   "source": [
    "hora=10\n",
    "if hora < 12:\n",
    "    print(\"Buenos días\")\n",
    "elif hora < 19:\n",
    "    print(\"Buenas tardes\")\n",
    "else:\n",
    "    print(\"Buenas noches\")"
   ]
  }
 ],
 "metadata": {
  "kernelspec": {
   "display_name": "Python 3",
   "language": "python",
   "name": "python3"
  },
  "language_info": {
   "codemirror_mode": {
    "name": "ipython",
    "version": 3
   },
   "file_extension": ".py",
   "mimetype": "text/x-python",
   "name": "python",
   "nbconvert_exporter": "python",
   "pygments_lexer": "ipython3",
   "version": "3.13.5"
  }
 },
 "nbformat": 4,
 "nbformat_minor": 5
}
