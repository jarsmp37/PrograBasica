{
 "cells": [
  {
   "cell_type": "markdown",
   "id": "d2098ec6",
   "metadata": {},
   "source": [
    "# Unidad 3: Arreglos Unidimensionales en Python\n",
    "\n",
    "## 3.1 Definición de arreglos unidimensionales\n",
    "Un **arreglo unidimensional** es una estructura de datos que almacena un conjunto de elementos del mismo tipo, organizados en una sola fila o columna.  \n",
    "En Python, la estructura más común para representar arreglos es la **lista (`list`)**.\n",
    "\n"
   ]
  },
  {
   "cell_type": "markdown",
   "id": "99af199f",
   "metadata": {},
   "source": [
    "# Tipos de Arreglos en Python\n",
    "\n",
    "En Python existen varias formas de trabajar con **arreglos unidimensionales**:\n",
    "\n",
    "---\n",
    "\n",
    "## 1. Listas (`list`)\n",
    "- Estructura más común y flexible.\n",
    "- Permite almacenar datos de **diferentes tipos**.\n",
    "- Se pueden modificar (son **mutables**).\n",
    "- Se crean con corchetes `[]`.\n",
    "\n",
    "---\n",
    "\n",
    "## 2. Arreglos (`array` del módulo `array`)\n",
    "- Más eficientes en memoria que las listas.\n",
    "- Solo aceptan **datos homogéneos** (del mismo tipo).\n",
    "- Se debe importar con `from array import array`.\n",
    "\n",
    "---\n",
    "\n",
    "## 3. Tuplas (`tuple`)\n",
    "- Parecidas a las listas, pero **inmutables** (no se pueden modificar).\n",
    "- Útiles para colecciones de datos que no cambian.\n",
    "- Se crean con paréntesis `()`.\n",
    "\n",
    "---\n",
    "\n",
    "## 4. Numpy Arrays (`numpy.ndarray`)\n",
    "- Parte de la librería **NumPy** (se debe instalar).\n",
    "- Soportan operaciones matemáticas y son más rápidos.\n",
    "- Usados en **ciencia de datos e inteligencia artificial**.\n",
    "\n",
    "---\n",
    "\n",
    "## 5. Listas por comprensión (List Comprehensions)\n",
    "- Forma compacta y elegante de crear listas a partir de bucles.\n",
    "- Muy usadas para generar arreglos de manera rápida.\n"
   ]
  },
  {
   "cell_type": "code",
   "execution_count": 1,
   "id": "624eea1f",
   "metadata": {},
   "outputs": [
    {
     "name": "stdout",
     "output_type": "stream",
     "text": [
      "Lista: [10, 20, 30, 'Python', True]\n",
      "Primer elemento: 10\n",
      "Lista modificada: [10, 30, 'Python', True, 50]\n"
     ]
    }
   ],
   "source": [
    "# Ejemplo de lista\n",
    "lista = [10, 20, 30, \"Python\", True]\n",
    "print(\"Lista:\", lista)\n",
    "\n",
    "# Operaciones\n",
    "print(\"Primer elemento:\", lista[0])\n",
    "lista.append(50)   # agregar\n",
    "lista.remove(20)   # eliminar\n",
    "print(\"Lista modificada:\", lista)\n",
    "\n",
    "# Ejercicio:\n",
    "# Crea una lista con 5 frutas, agrega una fruta nueva y elimina la segunda.\n"
   ]
  },
  {
   "cell_type": "code",
   "execution_count": 2,
   "id": "427d182d",
   "metadata": {},
   "outputs": [
    {
     "name": "stdout",
     "output_type": "stream",
     "text": [
      "Lista: ['manzana', 'pera', 'kiwi', 'melon', 'plátano']\n",
      "Primer elemento: manzana\n",
      "Lista modificada: ['manzana', 'kiwi', 'melon', 'plátano', 'Durazno']\n"
     ]
    }
   ],
   "source": [
    "lista = [\"manzana\",\"pera\", \"kiwi\", \"melon\",\"plátano\"]\n",
    "print(\"Lista:\", lista)\n",
    "\n",
    "# Operaciones\n",
    "print(\"Primer elemento:\", lista[0])\n",
    "lista.append(\"Durazno\")   # agregar\n",
    "lista.remove(lista[1])   # eliminar\n",
    "print(\"Lista modificada:\", lista)"
   ]
  },
  {
   "cell_type": "code",
   "execution_count": 3,
   "id": "9bc43e61",
   "metadata": {},
   "outputs": [
    {
     "name": "stdout",
     "output_type": "stream",
     "text": [
      "Lista: ['manzana', 'pera', 'kiwi', 'melon', 'plátano']\n",
      "Lista: ['manzana', 'pera', 'uva', 'melon', 'plátano']\n"
     ]
    }
   ],
   "source": [
    "lista = [\"manzana\",\"pera\", \"kiwi\", \"melon\",\"plátano\"]\n",
    "print(\"Lista:\", lista)\n",
    "lista[2]=\"uva\"\n",
    "print(\"Lista:\", lista)"
   ]
  },
  {
   "cell_type": "markdown",
   "id": "48868523",
   "metadata": {},
   "source": [
    "## 2. Arreglos (`array` del módulo array)\n",
    "\n",
    "- Los **arreglos** en Python (del módulo `array`) son similares a las listas, \n",
    "  pero con la diferencia de que **solo pueden almacenar datos homogéneos** \n",
    "  (todos los elementos deben ser del mismo tipo, por ejemplo: solo enteros o solo flotantes).\n",
    "- Son más eficientes en memoria que las listas, ya que se optimizan para un solo tipo de dato.\n",
    "- Se crean importando el módulo `array`:\n",
    "  ```python\n",
    "  from array import array\n",
    "  arr = array('i', [1, 2, 3])   # 'i' significa entero con signo\n"
   ]
  },
  {
   "cell_type": "code",
   "execution_count": 4,
   "id": "2369699b",
   "metadata": {},
   "outputs": [
    {
     "name": "stdout",
     "output_type": "stream",
     "text": [
      "Arreglo: array('i', [1, 2, 3, 4, 5])\n",
      "Arreglo modificado: array('i', [1, 2, 4, 5, 6])\n"
     ]
    }
   ],
   "source": [
    "from array import array\n",
    "\n",
    "# Arreglo de enteros\n",
    "arr = array('i', [1, 2, 3, 4, 5])\n",
    "print(\"Arreglo:\", arr)\n",
    "\n",
    "# Operaciones\n",
    "arr.append(6)\n",
    "arr.remove(3)\n",
    "print(\"Arreglo modificado:\", arr)\n",
    "\n",
    "# Ejercicio:\n",
    "# Crea un arreglo de flotantes con 4 números y agrega uno nuevo.\n"
   ]
  },
  {
   "cell_type": "markdown",
   "id": "f155607a",
   "metadata": {},
   "source": [
    "\n",
    "## 3. Tuplas (`tuple`)\n",
    "\n",
    "- Una **tupla** es muy parecida a una lista, pero con la diferencia de que es **inmutable**, \n",
    "  es decir, **no se puede modificar después de su creación**.\n",
    "- Se definen con paréntesis `()`:\n",
    "  ```python\n",
    "  tupla = (1, 2, 3)\n"
   ]
  },
  {
   "cell_type": "code",
   "execution_count": null,
   "id": "3d344939",
   "metadata": {},
   "outputs": [
    {
     "name": "stdout",
     "output_type": "stream",
     "text": [
      "Tupla: (1, 2, 3, 4, 5)\n",
      "Primer elemento: 1\n"
     ]
    }
   ],
   "source": [
    "# Ejemplo de tupla\n",
    "tupla = (1, 2, 3, 4, 5)\n",
    "print(\"Tupla:\", tupla)\n",
    "print(\"Primer elemento:\", tupla[0])\n",
    "\n",
    "# tupla[0] = 10  # Esto da error porque las tuplas son inmutables\n",
    "\n"
   ]
  },
  {
   "cell_type": "markdown",
   "id": "cff6d19d",
   "metadata": {},
   "source": [
    "\n",
    "## 4. NumPy Arrays (`numpy.ndarray`)\n",
    "\n",
    "- Son arreglos proporcionados por la librería **NumPy**, muy usados en **ciencia de datos**, **machine learning** y **cálculos científicos**.\n",
    "- A diferencia de las listas de Python:\n",
    "  - Ocupan menos memoria.\n",
    "  - Son más rápidos en operaciones matemáticas.\n",
    "  - Permiten aplicar operaciones sobre todos los elementos de manera vectorizada (sin usar bucles).\n",
    "- Ejemplo:\n",
    "  ```python\n",
    "  import numpy as np\n",
    "  arr = np.array([1, 2, 3, 4])\n",
    "  print(arr * 2)  # Multiplica cada elemento por 2\n"
   ]
  },
  {
   "cell_type": "code",
   "execution_count": null,
   "id": "e5989767",
   "metadata": {},
   "outputs": [],
   "source": [
    "pip install numpy"
   ]
  },
  {
   "cell_type": "code",
   "execution_count": 6,
   "id": "2ee0ae63",
   "metadata": {},
   "outputs": [
    {
     "name": "stdout",
     "output_type": "stream",
     "text": [
      "NumPy Array: [1 2 3 4 5]\n",
      "Multiplicado por 2: [ 2  4  6  8 10]\n",
      "Suma de elementos: 15\n"
     ]
    }
   ],
   "source": [
    "import numpy as np\n",
    "\n",
    "# Crear un arreglo numpy\n",
    "np_arr = np.array([1, 2, 3, 4, 5])\n",
    "print(\"NumPy Array:\", np_arr)\n",
    "\n",
    "# Operaciones matemáticas\n",
    "print(\"Multiplicado por 2:\", np_arr * 2)\n",
    "print(\"Suma de elementos:\", np.sum(np_arr))\n",
    "\n",
    "# Ejercicio:\n",
    "# Crea un arreglo con los números del 1 al 10 y calcula su promedio.\n"
   ]
  },
  {
   "cell_type": "code",
   "execution_count": 7,
   "id": "f1368d05",
   "metadata": {},
   "outputs": [
    {
     "name": "stdout",
     "output_type": "stream",
     "text": [
      "Tu lista de números es: [ 1  2  3  4  5  6  7  8  9 10]\n",
      "EL promedio de tu lista es: 5.5\n"
     ]
    }
   ],
   "source": [
    "list=np.array([1,2,3,4,5,6,7,8,9,10])\n",
    "print(f\"Tu lista de números es: {list}\")\n",
    "promedio=(np.sum(list))/len(list)\n",
    "print(f\"EL promedio de tu lista es: {promedio}\")"
   ]
  },
  {
   "cell_type": "code",
   "execution_count": 8,
   "id": "5b67e3e1",
   "metadata": {},
   "outputs": [
    {
     "name": "stdout",
     "output_type": "stream",
     "text": [
      "Tu lista de números es: [ 1  2  3  4  5  6  7  8  9 10]\n",
      "EL promedio de tu lista es: 5.5\n"
     ]
    }
   ],
   "source": [
    "list=np.array([1,2,3,4,5,6,7,8,9,10])\n",
    "print(f\"Tu lista de números es: {list}\")\n",
    "promedio=np.mean(list)\n",
    "print(f\"EL promedio de tu lista es: {promedio}\")"
   ]
  },
  {
   "cell_type": "markdown",
   "id": "df735319",
   "metadata": {},
   "source": [
    "\n",
    "## 5. Listas por comprensión (List Comprehensions)\n",
    "\n",
    "- Son una forma **compacta y elegante** de crear listas a partir de un bucle.\n",
    "- Se basan en la sintaxis:\n",
    "  ```python\n",
    "  [expresion for elemento in iterable if condicion]\n"
   ]
  },
  {
   "cell_type": "code",
   "execution_count": null,
   "id": "a7550732",
   "metadata": {},
   "outputs": [
    {
     "name": "stdout",
     "output_type": "stream",
     "text": [
      "Cuadrados (for): [1, 4, 9, 16, 25]\n"
     ]
    }
   ],
   "source": [
    "# Lista tradicional\n",
    "cuadrados = []\n",
    "for i in range(1, 6):\n",
    "    cuadrados.append(i**2)\n",
    "print(\"Cuadrados (for):\", cuadrados)"
   ]
  },
  {
   "cell_type": "code",
   "execution_count": null,
   "id": "c63101fd",
   "metadata": {},
   "outputs": [
    {
     "name": "stdout",
     "output_type": "stream",
     "text": [
      "Cuadrados (list comprehension): [1, 4, 9, 16, 25]\n"
     ]
    }
   ],
   "source": [
    "# Lista por comprensión\n",
    "cuadrados2 = [a**2 for a in range(1, 6)]\n",
    "print(\"Cuadrados (list comprehension):\", cuadrados2)\n",
    "\n",
    "# Ejercicio:\n",
    "# Genera una lista de los múltiplos de 3 entre 1 y 30 usando comprensión de listas.\n"
   ]
  },
  {
   "cell_type": "code",
   "execution_count": null,
   "id": "6b519b81",
   "metadata": {},
   "outputs": [],
   "source": [
    "pares = [x for x in range(10) if x % 2 == 0]\n",
    "print(pares)  # [0, 2, 4, 6, 8]\n"
   ]
  },
  {
   "cell_type": "code",
   "execution_count": 11,
   "id": "44d71987",
   "metadata": {},
   "outputs": [
    {
     "name": "stdout",
     "output_type": "stream",
     "text": [
      "[3, 6, 9, 12, 15, 18, 21, 24, 27, 30]\n"
     ]
    }
   ],
   "source": [
    "mult3=[k for k in range(1,33) if k%3==0]\n",
    "print(mult3)"
   ]
  },
  {
   "cell_type": "code",
   "execution_count": 13,
   "id": "1d3845f6",
   "metadata": {},
   "outputs": [
    {
     "name": "stdout",
     "output_type": "stream",
     "text": [
      "[3, 6, 9, 12, 15, 18, 21, 24, 27, 30]\n"
     ]
    }
   ],
   "source": [
    "mult3=[3*k for k in range(1,11)]\n",
    "print(mult3)"
   ]
  },
  {
   "cell_type": "markdown",
   "id": "9a1fda70",
   "metadata": {},
   "source": [
    "# Funciones en Python\n",
    "\n",
    "En Python, una **función** es un bloque de código reutilizable que se ejecuta solo cuando se llama.\n",
    "\n",
    "---\n",
    "\n",
    "## ¿Por qué usar funciones?\n",
    "- Evitan repetir código.\n",
    "- Hacen los programas más **organizados** y **legibles**.\n",
    "- Facilitan la **reutilización** en diferentes partes del programa.\n",
    "\n",
    "---\n",
    "\n",
    "## Sintaxis básica\n",
    "```python\n",
    "def nombre_funcion(parametros):\n",
    "    \"\"\"Docstring opcional: explica qué hace la función\"\"\"\n",
    "    # Bloque de código\n",
    "    return valor  # opcional\n"
   ]
  },
  {
   "cell_type": "code",
   "execution_count": 16,
   "id": "f1fc80b1",
   "metadata": {},
   "outputs": [
    {
     "name": "stdout",
     "output_type": "stream",
     "text": [
      "Hola, bienvenido a Python\n",
      "Hola, bienvenido a Python\n"
     ]
    }
   ],
   "source": [
    "### 1. Sin parámetros y sin retorno\n",
    "\n",
    "def saludar():\n",
    "    print(\"Hola, bienvenido a Python\")\n",
    "\n",
    "# Llamar a la función\n",
    "saludar()\n",
    "saludar()\n"
   ]
  },
  {
   "cell_type": "code",
   "execution_count": 19,
   "id": "8ed8f28e",
   "metadata": {},
   "outputs": [
    {
     "name": "stdout",
     "output_type": "stream",
     "text": [
      "Hola Ana, tu apellido es González y tienes 19 años\n",
      "Hola Luis, tu apellido es Pérez y tienes 21 años\n"
     ]
    }
   ],
   "source": [
    "#Con parámetros pero sin retorno\n",
    "def saludar_persona(nombre,apellido, edad):\n",
    "    print(f\"Hola {nombre}, tu apellido es {apellido} y tienes {edad} años\")\n",
    "\n",
    "# Ejemplo\n",
    "saludar_persona(\"Ana\",\"González\",19)\n",
    "saludar_persona(\"Luis\",\"Pérez\",21)\n"
   ]
  },
  {
   "cell_type": "code",
   "execution_count": null,
   "id": "910370a0",
   "metadata": {},
   "outputs": [],
   "source": [
    "#Sin parámetros pero con retorno\n",
    "def pi():\n",
    "    return 3.1416\n",
    "# Ejemplo\n",
    "print(\"El valor de pi es:\", pi())"
   ]
  },
  {
   "cell_type": "code",
   "execution_count": 22,
   "id": "16212a46",
   "metadata": {},
   "outputs": [
    {
     "name": "stdout",
     "output_type": "stream",
     "text": [
      "La suma es: 8\n"
     ]
    }
   ],
   "source": [
    "#Con parámetros y con retorno\n",
    "def sumar(a, b):\n",
    "    return a + b\n",
    "# Ejemplo\n",
    "resultado = sumar(5, 3)\n",
    "print(\"La suma es:\", resultado)\n"
   ]
  },
  {
   "cell_type": "markdown",
   "id": "e9fddcfd",
   "metadata": {},
   "source": [
    "#### Ejercicio 1:\n",
    "Escribe una función que imprima tu nombre completo."
   ]
  },
  {
   "cell_type": "code",
   "execution_count": 1,
   "id": "6536d9ff",
   "metadata": {},
   "outputs": [
    {
     "name": "stdout",
     "output_type": "stream",
     "text": [
      "Tu nombre es Federico Camacho Cagal\n",
      "Tu nombre es Jonathan Araiza Guzmán\n"
     ]
    }
   ],
   "source": [
    "def nombre(nombre1,app,apm):\n",
    "    print(f\"Tu nombre es {nombre1} {app} {apm}\")\n",
    "nombre(\"Federico\",\"Camacho\",\"Cagal\")\n",
    "nombre(\"Jonathan\",\"Araiza\",\"Guzmán\")"
   ]
  },
  {
   "cell_type": "markdown",
   "id": "c5b45b1e",
   "metadata": {},
   "source": [
    "#### Ejercicio 2:\n",
    "Crea una función que reciba dos números y muestre su producto."
   ]
  },
  {
   "cell_type": "code",
   "execution_count": 2,
   "id": "c8e755c2",
   "metadata": {},
   "outputs": [
    {
     "data": {
      "text/plain": [
       "340"
      ]
     },
     "execution_count": 2,
     "metadata": {},
     "output_type": "execute_result"
    }
   ],
   "source": [
    "def operacion(num1, num2):\n",
    "    return num1*num2\n",
    "\n",
    "operacion(10,34)"
   ]
  },
  {
   "cell_type": "markdown",
   "id": "5d9117e5",
   "metadata": {},
   "source": [
    "#### Ejercicio 3:\n",
    "Crea una función que reciba una lista de números y devuelva el número mayor."
   ]
  },
  {
   "cell_type": "code",
   "execution_count": 3,
   "id": "2c95412f",
   "metadata": {},
   "outputs": [
    {
     "name": "stdout",
     "output_type": "stream",
     "text": [
      "El valor máximo de la lista es 7\n"
     ]
    }
   ],
   "source": [
    "def encontrar(a,b,c,d,e):\n",
    "    max=a\n",
    "    lista=[a,b,c,d,e]\n",
    "    for i in lista:\n",
    "        if i>max:\n",
    "            max=i\n",
    "    print(f\"El valor máximo de la lista es {max}\")    \n",
    "\n",
    "encontrar(2,3,4,7,5)\n"
   ]
  },
  {
   "cell_type": "code",
   "execution_count": null,
   "id": "3454da74",
   "metadata": {},
   "outputs": [],
   "source": [
    "def encontrar(lista):\n",
    "    max=lista[0]\n",
    "    for i in lista:\n",
    "        if i>max:\n",
    "            max=i\n",
    "    print(f\"El valor máximo de la lista es {max}\")\n",
    "\n",
    "a=[4,6,3,4,8,9,12,23,1,2,4,5,7,3,5]\n",
    "encontrar(a)   "
   ]
  },
  {
   "cell_type": "markdown",
   "id": "1a840276",
   "metadata": {},
   "source": [
    "#### Ejercicio 4:\n",
    "Escribe una función que reciba un número y regrese True si es par, False si es impar.\n"
   ]
  },
  {
   "cell_type": "code",
   "execution_count": null,
   "id": "75e10832",
   "metadata": {},
   "outputs": [
    {
     "data": {
      "text/plain": [
       "False"
      ]
     },
     "execution_count": 3,
     "metadata": {},
     "output_type": "execute_result"
    }
   ],
   "source": [
    "def par(numero):\n",
    "    if numero%2==0:\n",
    "        return True\n",
    "    else:\n",
    "        return False\n",
    "    \n",
    "par(91)"
   ]
  },
  {
   "cell_type": "markdown",
   "id": "e2fd2648",
   "metadata": {},
   "source": [
    "---\n",
    "\n",
    "## 3.2 Operaciones en arreglos unidimensionales\n",
    "\n",
    "### 3.2.1 Algoritmos de búsqueda\n",
    "Son métodos para encontrar un elemento dentro de un arreglo.\n"
   ]
  },
  {
   "cell_type": "markdown",
   "id": "62181d54",
   "metadata": {},
   "source": [
    "### 3.2.1.1 Búsqueda lineal\n",
    "\n",
    "La **búsqueda lineal** es un algoritmo simple para encontrar un elemento dentro de un arreglo (lista).\n",
    "\n",
    "#### Características:\n",
    "- Recorre el arreglo **elemento por elemento** hasta encontrar el valor buscado.\n",
    "- Si el valor está en la lista, devuelve su posición (índice).\n",
    "- Si no está, devuelve un indicador de **no encontrado** (ej. `-1`).\n",
    "- No requiere que la lista esté ordenada.\n",
    "- Complejidad: **O(n)**, donde *n* es el número de elementos.\n",
    "\n",
    "#### Ejemplo visual:\n",
    "Lista: [4, 8, 15, 16, 23, 42]  \n",
    "Buscando el 15 → Se revisa `4`, luego `8`, luego **15** ✅ encontrado en la posición 2.\n"
   ]
  },
  {
   "cell_type": "code",
   "execution_count": null,
   "id": "a02afb4b",
   "metadata": {},
   "outputs": [
    {
     "name": "stdout",
     "output_type": "stream",
     "text": [
      "Lista: [10, 23, 45, 70, 11, 15, 70, 34, 23, 345, 45, 70, 12, 233, 70]\n",
      "El número 70 se encontró en la posición 3\n"
     ]
    }
   ],
   "source": [
    "# Implementación de búsqueda lineal\n",
    "def busqueda_lineal(lista, objetivo):\n",
    "    for i in range(len(lista)):\n",
    "        if lista[i] == objetivo:\n",
    "            return i   # devuelve el índice si lo encuentra\n",
    "    return -1  # si no lo encuentra\n",
    "\n",
    "# Ejemplo de uso\n",
    "numeros = [10, 23, 45, 70, 11, 15,70,34,23,345,45,70,12,233,70]\n",
    "print(\"Lista:\", numeros)\n",
    "\n",
    "buscado = 70\n",
    "posicion = busqueda_lineal(numeros, buscado)\n",
    "\n",
    "if posicion != -1:\n",
    "    print(f\"El número {buscado} se encontró en la posición {posicion}\")\n",
    "else:\n",
    "    print(f\"El número {buscado} no está en la lista\")\n"
   ]
  },
  {
   "cell_type": "code",
   "execution_count": 9,
   "id": "efe4337f",
   "metadata": {},
   "outputs": [
    {
     "name": "stdout",
     "output_type": "stream",
     "text": [
      "Lista: [10, 23, 45, 70, 11, 15, 70, 34, 23, 345, 45, 70, 12, 233, 70]\n",
      "El número 700 no está en la lista\n"
     ]
    }
   ],
   "source": [
    "# Implementación de búsqueda lineal\n",
    "def busqueda_lineal(lista, objetivo):\n",
    "    a=[]\n",
    "    for i in range(len(lista)):\n",
    "        if lista[i] == objetivo:\n",
    "            a.append(i)\n",
    "    if len(a)!=0:\n",
    "        return a\n",
    "    else:\n",
    "        return -1  # si no lo encuentra\n",
    "\n",
    "# Ejemplo de uso\n",
    "numeros = [10, 23, 45, 70, 11, 15,70,34,23,345,45,70,12,233,70]\n",
    "print(\"Lista:\", numeros)\n",
    "\n",
    "buscado = 700\n",
    "posicion = busqueda_lineal(numeros, buscado)\n",
    "\n",
    "if posicion != -1:\n",
    "    print(f\"El número {buscado} se encontró en la posición {posicion}\")\n",
    "else:\n",
    "    print(f\"El número {buscado} no está en la lista\")"
   ]
  },
  {
   "cell_type": "markdown",
   "id": "c05642c3",
   "metadata": {},
   "source": [
    "### 3.2.1.2 Búsqueda Binaria\n",
    "\n",
    "La **búsqueda binaria** es un algoritmo eficiente para encontrar un elemento dentro de una lista **ordenada**.\n",
    "\n",
    "#### Características:\n",
    "- La lista debe estar previamente **ordenada**.\n",
    "- Divide la lista en mitades sucesivas hasta encontrar el valor buscado.\n",
    "- Si el valor del medio es igual al buscado → se encontró.\n",
    "- Si el valor buscado es menor → buscar en la mitad izquierda.\n",
    "- Si el valor buscado es mayor → buscar en la mitad derecha.\n",
    "- Complejidad: **O(log n)**, mucho más rápida que la búsqueda lineal en listas grandes.\n",
    "\n",
    "#### Ejemplo visual:\n",
    "Lista: [10, 20, 30, 40, 50, 60, 70]  \n",
    "Buscando el 50 →  \n",
    "1. Compara con el elemento central (40).  \n",
    "2. Como 50 > 40, busca en la mitad derecha.  \n",
    "3. El nuevo medio es 60 → 50 < 60 → busca en la mitad izquierda.  \n",
    "4. Encuentra **50** ✅.\n"
   ]
  },
  {
   "cell_type": "code",
   "execution_count": null,
   "id": "8b97aaea",
   "metadata": {},
   "outputs": [
    {
     "name": "stdout",
     "output_type": "stream",
     "text": [
      "Lista ordenada: [10, 20, 30, 50, 40, 60, 70]\n",
      "El número 40 NO está en la lista\n"
     ]
    }
   ],
   "source": [
    "def busqueda_binaria(lista, objetivo):\n",
    "    inicio, fin = 0, len(lista) - 1\n",
    "    \n",
    "    while inicio <= fin:\n",
    "        medio = (inicio + fin) // 2\n",
    "        if lista[medio] == objetivo:\n",
    "            return medio\n",
    "        elif lista[medio] < objetivo:\n",
    "            inicio = medio + 1\n",
    "        else:\n",
    "            fin = medio - 1\n",
    "    return -1  # No encontrado\n",
    "\n",
    "# Ejemplo\n",
    "numeros = [10, 20, 30, 40, 50, 60, 70]\n",
    "print(\"Lista ordenada:\", numeros)\n",
    "\n",
    "buscado = 50\n",
    "posicion = busqueda_binaria(numeros, buscado)\n",
    "\n",
    "if posicion != -1:\n",
    "    print(f\"El número {buscado} se encontró en la posición {posicion}\")\n",
    "else:\n",
    "    print(f\"El número {buscado} NO está en la lista\")\n"
   ]
  },
  {
   "cell_type": "markdown",
   "id": "69715e9b",
   "metadata": {},
   "source": [
    "---\n",
    "\n",
    "### 3.2.2 Algoritmos de Ordenamiento\n",
    "Son métodos para organizar los elementos de un arreglo en un cierto orden (ascendente o descendente).\n",
    "\n",
    "### 3.2.2.1 Ordenamiento Burbuja (Bubble Sort)\n",
    "\n",
    "El **ordenamiento burbuja** es uno de los algoritmos más sencillos para ordenar una lista.  \n",
    "Funciona comparando **pares de elementos adyacentes** y, si están en el orden incorrecto, los intercambia.  \n",
    "Este proceso se repite varias veces hasta que la lista queda ordenada.\n",
    "\n",
    "#### Pasos del algoritmo:\n",
    "1. Recorrer toda la lista comparando elementos de dos en dos.\n",
    "2. Si el elemento actual es mayor que el siguiente, se intercambian.\n",
    "3. Repetir este proceso tantas veces como sea necesario, hasta que no haya más cambios.\n",
    "\n",
    "#### Ejemplo:\n",
    "Lista inicial: `[5, 3, 8, 4, 2]`\n",
    "\n",
    "- Primera pasada: `[3, 5, 4, 2, 8]`\n",
    "- Segunda pasada: `[3, 4, 2, 5, 8]`\n",
    "- Tercera pasada: `[3, 2, 4, 5, 8]`\n",
    "- Cuarta pasada: `[2, 3, 4, 5, 8]` ✅ Lista ordenada\n",
    "\n",
    "#### Complejidad:\n",
    "- **Peor caso:** O(n²)\n",
    "- **Mejor caso:** O(n) si ya está ordenada\n",
    "- **Caso promedio:** O(n²)\n",
    "\n"
   ]
  },
  {
   "cell_type": "code",
   "execution_count": 14,
   "id": "2c2586ea",
   "metadata": {},
   "outputs": [
    {
     "name": "stdout",
     "output_type": "stream",
     "text": [
      "Lista original: [5, 3, 8, 4, 2, 6, 12, 3, 56, 13, 10]\n",
      "Lista ordenada: [2, 3, 3, 4, 5, 6, 8, 10, 12, 13, 56]\n"
     ]
    }
   ],
   "source": [
    "# Algoritmo de Ordenamiento Burbuja\n",
    "\n",
    "def bubble_sort(lista):\n",
    "    n = len(lista)\n",
    "    # Recorremos toda la lista\n",
    "    for i in range(n):\n",
    "        # En cada pasada, el último ya queda en su lugar\n",
    "        for j in range(0, n - i - 1):\n",
    "            # Comparar elementos adyacentes\n",
    "            if lista[j] > lista[j + 1]:\n",
    "                # Intercambiar\n",
    "                lista[j], lista[j + 1] = lista[j + 1], lista[j]\n",
    "    return lista\n",
    "\n",
    "# Ejemplo\n",
    "numeros = [5, 3, 8, 4, 2,6,12,3,56,13,10]\n",
    "print(\"Lista original:\", numeros)\n",
    "ordenada = bubble_sort(numeros)\n",
    "print(\"Lista ordenada:\", ordenada)\n"
   ]
  },
  {
   "cell_type": "markdown",
   "id": "6a02738d",
   "metadata": {},
   "source": [
    "### 3.2.2.2 Ordenamiento por Selección (Selection Sort)\n",
    "\n",
    "El **ordenamiento por selección** es un algoritmo sencillo que consiste en **buscar el elemento más pequeño de la lista** y colocarlo en la primera posición.  \n",
    "Después se busca el siguiente más pequeño y se coloca en la segunda posición, y así sucesivamente, hasta que toda la lista quede ordenada.\n",
    "\n",
    "#### Pasos del algoritmo:\n",
    "1. Buscar el elemento más pequeño de la lista.\n",
    "2. Intercambiarlo con el primer elemento.\n",
    "3. Buscar el segundo más pequeño y colocarlo en la segunda posición.\n",
    "4. Repetir hasta ordenar toda la lista.\n",
    "\n",
    "#### Ejemplo:\n",
    "Lista inicial: `[64, 25, 12, 22, 11]`\n",
    "\n",
    "- Primera pasada: `[11, 25, 12, 22, 64]`\n",
    "- Segunda pasada: `[11, 12, 25, 22, 64]`\n",
    "- Tercera pasada: `[11, 12, 22, 25, 64]`\n",
    "- Cuarta pasada: `[11, 12, 22, 25, 64]` ✅ Lista ordenada\n",
    "\n",
    "#### Complejidad:\n",
    "- **Peor caso:** O(n²)\n",
    "- **Mejor caso:** O(n²) (aunque ya esté ordenada, sigue buscando)\n",
    "- **Caso promedio:** O(n²)\n"
   ]
  },
  {
   "cell_type": "code",
   "execution_count": 1,
   "id": "70d9df23",
   "metadata": {},
   "outputs": [
    {
     "name": "stdout",
     "output_type": "stream",
     "text": [
      "Lista original: [64, 25, 12, 22, 11]\n",
      "Lista ordenada: [11, 12, 22, 25, 64]\n"
     ]
    }
   ],
   "source": [
    "# Algoritmo de Ordenamiento por Selección\n",
    "\n",
    "def selection_sort(lista):\n",
    "    n = len(lista)\n",
    "    for i in range(n):\n",
    "        # Suponemos que el elemento mínimo es el primero\n",
    "        min_index = i\n",
    "        # Buscar el más pequeño en el resto de la lista\n",
    "        for j in range(i+1, n):\n",
    "            if lista[j] < lista[min_index]:\n",
    "                min_index = j\n",
    "        # Intercambiar el mínimo encontrado con el primer elemento\n",
    "        lista[i], lista[min_index] = lista[min_index], lista[i]\n",
    "    return lista\n",
    "\n",
    "# Ejemplo\n",
    "numeros = [64, 25, 12, 22, 11]\n",
    "print(\"Lista original:\", numeros)\n",
    "ordenada = selection_sort(numeros)\n",
    "print(\"Lista ordenada:\", ordenada)\n"
   ]
  },
  {
   "cell_type": "markdown",
   "id": "5599e6bd",
   "metadata": {},
   "source": [
    "### 3.2.2.3 Ordenamiento por Inserción (Insertion Sort)\n",
    "\n",
    "El **ordenamiento por inserción** funciona como cuando ordenamos cartas en la mano:  \n",
    "vamos tomando un elemento y lo colocamos en el lugar correcto respecto a los que ya están ordenados.\n",
    "\n",
    "#### Pasos del algoritmo:\n",
    "1. Suponer que el primer elemento ya está ordenado.\n",
    "2. Tomar el siguiente elemento y compararlo con los anteriores.\n",
    "3. Desplazar hacia la derecha todos los elementos que sean mayores.\n",
    "4. Insertar el elemento en la posición correcta.\n",
    "5. Repetir hasta ordenar toda la lista.\n",
    "\n",
    "#### Ejemplo:\n",
    "Lista inicial: `[5, 3, 4, 1, 2]`\n",
    "\n",
    "- Primera pasada: `[3, 5, 4, 1, 2]`\n",
    "- Segunda pasada: `[3, 4, 5, 1, 2]`\n",
    "- Tercera pasada: `[1, 3, 4, 5, 2]`\n",
    "- Cuarta pasada: `[1, 2, 3, 4, 5]` ✅ Lista ordenada\n",
    "\n",
    "#### Complejidad:\n",
    "- **Peor caso:** O(n²)\n",
    "- **Mejor caso:** O(n) (si ya está ordenada)\n",
    "- **Caso promedio:** O(n²)\n"
   ]
  },
  {
   "cell_type": "code",
   "execution_count": 2,
   "id": "075fa1ea",
   "metadata": {},
   "outputs": [
    {
     "name": "stdout",
     "output_type": "stream",
     "text": [
      "Lista original: [5, 3, 4, 1, 2]\n",
      "Lista ordenada: [1, 2, 3, 4, 5]\n"
     ]
    }
   ],
   "source": [
    "# Algoritmo de Ordenamiento por Inserción\n",
    "\n",
    "def insertion_sort(lista):\n",
    "    for i in range(1, len(lista)):\n",
    "        actual = lista[i]\n",
    "        j = i - 1\n",
    "        # Mover los elementos mayores a la derecha\n",
    "        while j >= 0 and lista[j] > actual:\n",
    "            lista[j + 1] = lista[j]\n",
    "            j -= 1\n",
    "        # Insertar el elemento en su lugar correcto\n",
    "        lista[j + 1] = actual\n",
    "    return lista\n",
    "\n",
    "# Ejemplo\n",
    "numeros = [5, 3, 4, 1, 2]\n",
    "print(\"Lista original:\", numeros)\n",
    "ordenada = insertion_sort(numeros)\n",
    "print(\"Lista ordenada:\", ordenada)\n"
   ]
  }
 ],
 "metadata": {
  "kernelspec": {
   "display_name": "Python 3",
   "language": "python",
   "name": "python3"
  },
  "language_info": {
   "codemirror_mode": {
    "name": "ipython",
    "version": 3
   },
   "file_extension": ".py",
   "mimetype": "text/x-python",
   "name": "python",
   "nbconvert_exporter": "python",
   "pygments_lexer": "ipython3",
   "version": "3.13.5"
  }
 },
 "nbformat": 4,
 "nbformat_minor": 5
}
