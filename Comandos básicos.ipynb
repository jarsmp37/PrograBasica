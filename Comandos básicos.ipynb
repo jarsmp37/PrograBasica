{
 "cells": [
  {
   "cell_type": "code",
   "execution_count": null,
   "metadata": {},
   "outputs": [],
   "source": [
    "# Ejemplo de uso del comando print\n",
    "print(\"Hola, bienvenidos a la clase de Python!\")\n"
   ]
  },
  {
   "cell_type": "markdown",
   "metadata": {},
   "source": [
    "# Comando `print()`\n",
    "La función `print()` en Python se utiliza para mostrar información en la consola. Puedes imprimir texto, números, o combinaciones de ambos. \n",
    "\n",
    "```python\n",
    "print(\"Texto\")           # Imprime un texto\n",
    "print(123)               # Imprime un número\n",
    "print(\"Número:\", 123)    # Imprime un texto y un número\n"
   ]
  },
  {
   "cell_type": "code",
   "execution_count": 2,
   "metadata": {},
   "outputs": [
    {
     "name": "stdout",
     "output_type": "stream",
     "text": [
      "Texto\n",
      "123\n",
      "Número: 123 es un número grande\n"
     ]
    }
   ],
   "source": [
    "print(\"Texto\")           # Imprime un texto\n",
    "print(123)               # Imprime un número\n",
    "print(\"Número:\", 123,\"es un número grande\")    # Imprime un texto y un número"
   ]
  },
  {
   "cell_type": "markdown",
   "metadata": {},
   "source": [
    "\n",
    "### 2. Tipos de variables\n",
    "\n",
    "En Python, no necesitas declarar el tipo de una variable antes de usarla. Python automáticamente infiere el tipo en función del valor que le asignas.\n",
    "\n",
    "```python\n",
    "# Ejemplos de tipos de variables\n",
    "nombre = \"Juan\"          # Cadena de texto (str)\n",
    "edad = 21                # Entero (int)\n",
    "altura = 1.75            # Número decimal (float)\n",
    "es_estudiante = True     # Booleano (bool)\n"
   ]
  },
  {
   "cell_type": "code",
   "execution_count": 3,
   "metadata": {},
   "outputs": [],
   "source": [
    "# Ejemplos de tipos de variables\n",
    "nombre = \"Juan\"          # Cadena de texto (str)\n",
    "edad = 21                # Entero (int)\n",
    "altura = 1.75            # Número decimal (float)\n",
    "es_estudiante = True     # Booleano (bool)"
   ]
  },
  {
   "cell_type": "markdown",
   "metadata": {},
   "source": [
    "# Tipos de variables en Python\n",
    "Python soporta varios tipos de datos básicos:\n",
    "- `str` (cadena de texto): Representa texto.\n",
    "- `int` (entero): Representa números enteros.\n",
    "- `float` (decimal): Representa números con decimales.\n",
    "- `bool` (booleano): Representa valores lógicos (`True` o `False`).\n",
    "\n",
    "```python\n",
    "# Ejemplos:\n",
    "nombre = \"Juan\"      # `nombre` es una cadena de texto (str)\n",
    "edad = 21            # `edad` es un número entero (int)\n",
    "altura = 1.75        # `altura` es un número decimal (float)\n",
    "es_estudiante = True # `es_estudiante` es un booleano (bool)\n"
   ]
  },
  {
   "cell_type": "markdown",
   "metadata": {},
   "source": [
    "\n",
    "### 3. Listas\n",
    "\n",
    "Las listas en Python son una estructura de datos que permite almacenar múltiples valores en una sola variable. Son mutables, lo que significa que puedes cambiar sus valores después de que la lista ha sido creada.\n",
    "\n",
    "```python\n",
    "# Ejemplos de listas\n",
    "numeros = [1, 2, 3, 4, 5]                   # Lista de enteros\n",
    "nombres = [\"Ana\", \"Luis\", \"Marta\"]          # Lista de cadenas\n",
    "mixta = [10, \"Python\", 3.14, True]          # Lista mixta\n"
   ]
  },
  {
   "cell_type": "code",
   "execution_count": 4,
   "metadata": {},
   "outputs": [],
   "source": [
    "numeros = [1, 2, 3, 4, 5]                   # Lista de enteros\n",
    "nombres = [\"Ana\", \"Luis\", \"Marta\"]          # Lista de cadenas\n",
    "mixta = [10, \"Python\", 3.14, True]          # Lista mixta"
   ]
  },
  {
   "cell_type": "code",
   "execution_count": 7,
   "metadata": {},
   "outputs": [
    {
     "name": "stdout",
     "output_type": "stream",
     "text": [
      "3\n",
      "Marta\n"
     ]
    }
   ],
   "source": [
    "print(numeros[2])\n",
    "print(nombres[2])"
   ]
  },
  {
   "cell_type": "code",
   "execution_count": 8,
   "metadata": {},
   "outputs": [],
   "source": [
    "datos=[\"Leo\",22,\"Morado\"]"
   ]
  },
  {
   "cell_type": "code",
   "execution_count": 15,
   "metadata": {},
   "outputs": [
    {
     "name": "stdout",
     "output_type": "stream",
     "text": [
      "Mi nombre es Leo  mi edad es: 22 y mi color favorito es: Morado\n"
     ]
    }
   ],
   "source": [
    "print(\"Mi nombre es\",datos[0],\" mi edad es:\",datos[1],\"y mi color favorito es:\",datos[2])"
   ]
  },
  {
   "cell_type": "code",
   "execution_count": 16,
   "metadata": {},
   "outputs": [
    {
     "name": "stdout",
     "output_type": "stream",
     "text": [
      "Mi nombre es Leo, mi edad es: 22 y mi color favorito es Morado\n"
     ]
    }
   ],
   "source": [
    "print(f\"Mi nombre es {datos[0]}, mi edad es: {datos[1]} y mi color favorito es {datos[2]}\")"
   ]
  },
  {
   "cell_type": "markdown",
   "metadata": {},
   "source": [
    "Para escoger un elemento de la lista:\n",
    "Nombre[posición]"
   ]
  },
  {
   "cell_type": "markdown",
   "metadata": {},
   "source": [
    "\n",
    "### 4. Operaciones con datos numéricos\n",
    "\n",
    "Puedes realizar operaciones aritméticas básicas en Python usando operadores como `+`, `-`, `*`, `/`, etc.\n",
    "\n",
    "```python\n",
    "# Ejemplos de operaciones básicas\n",
    "suma = 10 + 5          # Suma: 15\n",
    "resta = 10 - 5         # Resta: 5\n",
    "producto = 10 * 5      # Multiplicación: 50\n",
    "division = 10 / 5      # División: 2.0\n",
    "potencia = 10 ** 2     # Potencia: 100\n",
    "modulo = 10 % 3        # Módulo: 1 (resto de la división)\n"
   ]
  },
  {
   "cell_type": "code",
   "execution_count": 20,
   "metadata": {},
   "outputs": [
    {
     "name": "stdout",
     "output_type": "stream",
     "text": [
      "14\n",
      "-2\n",
      "48\n",
      "0.75\n",
      "1679616\n"
     ]
    }
   ],
   "source": [
    "a=6\n",
    "b=8\n",
    "print(a+b)\n",
    "print(a-b)\n",
    "print(a*b)\n",
    "print(a/b)\n",
    "print(a**b)"
   ]
  },
  {
   "cell_type": "markdown",
   "metadata": {},
   "source": [
    "# Entrada de datos con `input()`\n",
    "La función `input()` se utiliza para recibir datos del usuario mientras se ejecuta el programa. El valor que se ingresa siempre es de tipo `str` (cadena de texto), por lo que es necesario convertirlo si se necesita otro tipo de dato.\n",
    "\n",
    "## Ejemplos:\n",
    "\n",
    "### 1. Entrada de un nombre (texto):\n",
    "```python\n",
    "nombre = input(\"¿Cuál es tu nombre? \")\n",
    "print(\"Hola, \" + nombre + \"! Bienvenido a la clase de Python.\")\n"
   ]
  },
  {
   "cell_type": "code",
   "execution_count": null,
   "metadata": {},
   "outputs": [],
   "source": [
    "# Ejemplo básico de uso de input()\n",
    "nombre = input(\"¿Cuál es tu nombre? \")\n",
    "print(\"Hola, \" + nombre + \"! Bienvenido a la clase de Python.\")\n"
   ]
  },
  {
   "cell_type": "code",
   "execution_count": null,
   "metadata": {},
   "outputs": [],
   "source": [
    "edad = input(\"¿Cuántos años tienes? \")\n",
    "edad = int(edad)  # Convertir la cadena de texto a entero\n",
    "print(\"Tienes \" + str(edad) + \" años.\")\n"
   ]
  },
  {
   "cell_type": "code",
   "execution_count": null,
   "metadata": {},
   "outputs": [],
   "source": [
    "altura = input(\"¿Cuál es tu altura en metros? \")\n",
    "altura = float(altura)  # Convertir la cadena de texto a decimal\n",
    "print(\"Mides \" + str(altura) + \" metros.\")\n"
   ]
  },
  {
   "cell_type": "markdown",
   "metadata": {},
   "source": [
    "# Formateo de cadenas con f-strings\n",
    "Las f-strings son una forma moderna y fácil de formatear cadenas en Python. Te permiten insertar variables y expresiones directamente dentro de las cadenas de texto, haciéndolas más fáciles de leer.\n",
    "\n",
    "## Ejemplos:\n",
    "\n",
    "### 1. Insertar variables en una cadena:\n",
    "```python\n",
    "nombre = \"Juan\"\n",
    "edad = 21\n",
    "print(f\"Hola, {nombre}! Tienes {edad} años.\")\n"
   ]
  },
  {
   "cell_type": "code",
   "execution_count": null,
   "metadata": {},
   "outputs": [],
   "source": [
    "# Ejemplo básico de f-string\n",
    "nombre = \"Juan\"\n",
    "edad = 21\n",
    "print(f\"Hola, {nombre}! Tienes {edad} años.\")\n"
   ]
  },
  {
   "cell_type": "code",
   "execution_count": null,
   "metadata": {},
   "outputs": [],
   "source": [
    "a = 5\n",
    "b = 3\n",
    "print(f\"La suma de {a} y {b} es {a + b}.\")\n"
   ]
  },
  {
   "cell_type": "code",
   "execution_count": null,
   "metadata": {},
   "outputs": [],
   "source": [
    "altura = 1.7532\n",
    "print(f\"Tu altura es {altura:.2f} metros.\")  # Limitar a 2 decimales\n"
   ]
  },
  {
   "cell_type": "markdown",
   "metadata": {},
   "source": [
    "Instrucciones:\n",
    "\n",
    "Recibe el nombre del usuario:\n",
    "Utiliza input() para pedir al usuario que ingrese su nombre y guarda esta información en una variable.\n",
    "\n",
    "Solicita dos números al usuario:\n",
    "Usa input() para pedir al usuario que ingrese dos números. Asegúrate de convertir los valores a enteros o flotantes, según sea necesario.\n",
    "\n",
    "Realiza operaciones matemáticas:\n",
    "Con los números que ingresó el usuario, realiza las siguientes operaciones:\n",
    "\n",
    "Suma\n",
    "Resta\n",
    "Multiplicación\n",
    "División\n",
    "Potencia\n",
    "Guarda los resultados en una lista:\n",
    "Guarda todos los resultados de las operaciones en una lista.\n",
    "\n",
    "Muestra los resultados al usuario:\n",
    "Utiliza f-strings y la función print() para mostrar el nombre del usuario y los resultados de las operaciones de manera clara. Asegúrate de que cada operación se muestre en una línea separada.\n",
    "\n",
    "Desafío opcional:\n",
    "Si el usuario lo desea, puede ingresar un tercer número para realizar una operación adicional (módulo) y mostrar ese resultado también."
   ]
  },
  {
   "cell_type": "code",
   "execution_count": 27,
   "metadata": {},
   "outputs": [],
   "source": [
    "# 1. Recibe el nombre del usuario\n",
    "nombre = input(\"¿Cuál es tu nombre? \")\n",
    "\n",
    "# 2. Solicita dos números al usuario\n",
    "num1 = float(input(\"Ingresa el primer número: \"))\n",
    "num2 = float(input(\"Ingresa el segundo número: \"))"
   ]
  },
  {
   "cell_type": "code",
   "execution_count": 28,
   "metadata": {},
   "outputs": [
    {
     "data": {
      "text/plain": [
       "12.3784983749823"
      ]
     },
     "execution_count": 28,
     "metadata": {},
     "output_type": "execute_result"
    }
   ],
   "source": [
    "num1"
   ]
  },
  {
   "cell_type": "code",
   "execution_count": 29,
   "metadata": {},
   "outputs": [
    {
     "name": "stdout",
     "output_type": "stream",
     "text": [
      "12.38\n"
     ]
    }
   ],
   "source": [
    "print(f\"{num1:.2f}\")"
   ]
  },
  {
   "cell_type": "code",
   "execution_count": 8,
   "metadata": {},
   "outputs": [
    {
     "name": "stdout",
     "output_type": "stream",
     "text": [
      "Hola, Jimmy! Aquí están los resultados de tus operaciones:\n",
      "- La suma de 34.0 y 21.0 es 55.0\n",
      "- La resta de 34.0 y 21.0 es 13.0\n",
      "- La multiplicación de 34.0 y 21.0 es 714.0\n",
      "- La división de 34.0 entre 21.0 es 1.62\n",
      "- 34.0 elevado a la potencia de 21.0 es 1.4489628738953409e+32\n"
     ]
    }
   ],
   "source": [
    "# 1. Recibe el nombre del usuario\n",
    "nombre = input(\"¿Cuál es tu nombre? \")\n",
    "\n",
    "# 2. Solicita dos números al usuario\n",
    "num1 = float(input(\"Ingresa el primer número: \"))\n",
    "num2 = float(input(\"Ingresa el segundo número: \"))\n",
    "\n",
    "# 3. Realiza operaciones matemáticas\n",
    "suma = num1 + num2\n",
    "resta = num1 - num2\n",
    "multiplicacion = num1 * num2\n",
    "division = num1 / num2\n",
    "potencia = num1 ** num2\n",
    "\n",
    "# 4. Guarda los resultados en una lista\n",
    "resultados = [suma, resta, multiplicacion, division, potencia]\n",
    "\n",
    "# 5. Muestra los resultados al usuario\n",
    "print(f\"Hola, {nombre}! Aquí están los resultados de tus operaciones:\")\n",
    "print(f\"- La suma de {num1} y {num2} es {suma}\")\n",
    "print(f\"- La resta de {num1} y {num2} es {resta}\")\n",
    "print(f\"- La multiplicación de {num1} y {num2} es {multiplicacion}\")\n",
    "print(f\"- La división de {num1} entre {num2} es {division:.2f}\")\n",
    "print(f\"- {num1} elevado a la potencia de {num2} es {potencia}\")\n"
   ]
  },
  {
   "cell_type": "markdown",
   "metadata": {},
   "source": [
    "¿Cómo saber que tipo de dato es?\n",
    "Comando type(variable)"
   ]
  },
  {
   "cell_type": "code",
   "execution_count": 30,
   "metadata": {},
   "outputs": [],
   "source": [
    "a=4\n",
    "b=\"jesús\"\n",
    "c=24.3"
   ]
  },
  {
   "cell_type": "code",
   "execution_count": 33,
   "metadata": {},
   "outputs": [
    {
     "data": {
      "text/plain": [
       "float"
      ]
     },
     "execution_count": 33,
     "metadata": {},
     "output_type": "execute_result"
    }
   ],
   "source": [
    "type(c)"
   ]
  },
  {
   "cell_type": "markdown",
   "metadata": {},
   "source": [
    "# Diccionarios en Python\n",
    "Los diccionarios en Python permiten almacenar datos en pares clave-valor. Las claves son únicas dentro de un diccionario y se utilizan para acceder a los valores asociados.\n",
    "\n",
    "## Sintaxis:\n",
    "- Un diccionario se define usando llaves `{}`.\n",
    "- Los pares clave-valor se separan con dos puntos `:`.\n",
    "- Los pares clave-valor se separan por comas.\n",
    "\n",
    "## Ejemplos:\n",
    "\n",
    "### 1. Crear un diccionario:\n",
    "```python\n",
    "estudiante = {\n",
    "    \"nombre\": \"Juan\",\n",
    "    \"edad\": 21,\n",
    "    \"carrera\": \"Ciencia de Datos\",\n",
    "    \"promedio\": 8.7\n",
    "}\n"
   ]
  },
  {
   "cell_type": "code",
   "execution_count": 1,
   "metadata": {},
   "outputs": [],
   "source": [
    "# Ejemplo básico de diccionario\n",
    "estudiante = {\n",
    "    \"nombre\": \"Juan\",\n",
    "    \"edad\": 21,\n",
    "    \"carrera\": \"Ciencia de Datos\",\n",
    "    \"promedio\": 8.7\n",
    "}\n"
   ]
  },
  {
   "cell_type": "code",
   "execution_count": 2,
   "metadata": {},
   "outputs": [
    {
     "data": {
      "text/plain": [
       "'Juan'"
      ]
     },
     "execution_count": 2,
     "metadata": {},
     "output_type": "execute_result"
    }
   ],
   "source": [
    "estudiante['nombre']"
   ]
  },
  {
   "cell_type": "code",
   "execution_count": 3,
   "metadata": {},
   "outputs": [
    {
     "data": {
      "text/plain": [
       "21"
      ]
     },
     "execution_count": 3,
     "metadata": {},
     "output_type": "execute_result"
    }
   ],
   "source": [
    "estudiante[\"edad\"]"
   ]
  },
  {
   "cell_type": "code",
   "execution_count": 4,
   "metadata": {},
   "outputs": [
    {
     "name": "stdout",
     "output_type": "stream",
     "text": [
      "El nombre del estudiante es Juan.\n"
     ]
    }
   ],
   "source": [
    "nombre = estudiante[\"nombre\"]\n",
    "print(f\"El nombre del estudiante es {nombre}.\")\n"
   ]
  },
  {
   "cell_type": "code",
   "execution_count": 5,
   "metadata": {},
   "outputs": [
    {
     "name": "stdout",
     "output_type": "stream",
     "text": [
      "El nuevo promedio es 9.0.\n"
     ]
    }
   ],
   "source": [
    "#Modifica el valor\n",
    "estudiante[\"promedio\"] = 9.0\n",
    "print(f\"El nuevo promedio es {estudiante['promedio']}.\")\n"
   ]
  },
  {
   "cell_type": "code",
   "execution_count": 6,
   "metadata": {},
   "outputs": [
    {
     "data": {
      "text/plain": [
       "{'nombre': 'Juan', 'edad': 21, 'carrera': 'Ciencia de Datos', 'promedio': 9.0}"
      ]
     },
     "execution_count": 6,
     "metadata": {},
     "output_type": "execute_result"
    }
   ],
   "source": [
    "estudiante"
   ]
  },
  {
   "cell_type": "code",
   "execution_count": 7,
   "metadata": {},
   "outputs": [
    {
     "name": "stdout",
     "output_type": "stream",
     "text": [
      "{'nombre': 'Juan', 'edad': 21, 'carrera': 'Ciencia de Datos', 'promedio': 9.0, 'graduado': False}\n"
     ]
    }
   ],
   "source": [
    "#agrega un campo\n",
    "estudiante[\"graduado\"] = False\n",
    "print(estudiante)\n"
   ]
  },
  {
   "cell_type": "markdown",
   "metadata": {},
   "source": [
    "Operaciones con Listas y Diccionarios en Python\n",
    "Python proporciona una gran flexibilidad para trabajar con listas y diccionarios. En esta sección, aprenderás cómo agregar, quitar y modificar elementos en estas estructuras de datos.\n",
    "\n",
    "17.1 Operaciones con Listas\n",
    "Listas: Una lista es una colección ordenada de elementos que pueden ser modificados (mutables). Los elementos pueden ser de cualquier tipo de dato.\n",
    "\n",
    "17.1.1 Agregar elementos a una lista\n",
    "Puedes agregar elementos a una lista utilizando los métodos append(), insert(), o el operador +=.\n",
    "\n"
   ]
  },
  {
   "cell_type": "code",
   "execution_count": 18,
   "metadata": {},
   "outputs": [
    {
     "name": "stdout",
     "output_type": "stream",
     "text": [
      "Después de append: [10, 20]\n",
      "Después de insert: [10, 15, 20]\n",
      "Después de +=: [10, 15, 20, 30, 40]\n"
     ]
    }
   ],
   "source": [
    "# Crear una lista vacía\n",
    "mi_lista = []\n",
    "\n",
    "# Agregar elementos al final de la lista con append()\n",
    "mi_lista.append(10)\n",
    "mi_lista.append(20)\n",
    "print(\"Después de append:\", mi_lista)\n",
    "\n",
    "# Insertar un elemento en una posición específica con insert()\n",
    "mi_lista.insert(1, 15)\n",
    "print(\"Después de insert:\", mi_lista)\n",
    "\n",
    "# Agregar varios elementos al final con +=\n",
    "mi_lista += [30, 40]\n",
    "print(\"Después de +=:\", mi_lista)\n"
   ]
  },
  {
   "cell_type": "markdown",
   "metadata": {},
   "source": [
    "Quitar elementos de una lista\n",
    "Puedes quitar elementos de una lista utilizando los métodos remove(), pop(), o del."
   ]
  },
  {
   "cell_type": "code",
   "execution_count": 19,
   "metadata": {},
   "outputs": [
    {
     "name": "stdout",
     "output_type": "stream",
     "text": [
      "Después de remove: [10, 20, 30, 40]\n",
      "Después de pop: [10, 30, 40]\n",
      "Elemento quitado: 20\n",
      "Después de del: [30, 40]\n"
     ]
    }
   ],
   "source": [
    "# Quitar un elemento específico con remove()\n",
    "mi_lista.remove(15)\n",
    "print(\"Después de remove:\", mi_lista)\n",
    "\n",
    "# Quitar un elemento en una posición específica con pop()\n",
    "elemento_quitado = mi_lista.pop(1)\n",
    "print(\"Después de pop:\", mi_lista)\n",
    "print(\"Elemento quitado:\", elemento_quitado)\n",
    "\n",
    "# Quitar un elemento con del\n",
    "del mi_lista[0]\n",
    "print(\"Después de del:\", mi_lista)\n"
   ]
  },
  {
   "cell_type": "markdown",
   "metadata": {},
   "source": [
    "Modificar elementos en una lista\n",
    "Puedes modificar un elemento directamente accediendo a su posición en la lista."
   ]
  },
  {
   "cell_type": "code",
   "execution_count": 20,
   "metadata": {},
   "outputs": [
    {
     "name": "stdout",
     "output_type": "stream",
     "text": [
      "Después de modificar: [25, 40]\n"
     ]
    }
   ],
   "source": [
    "# Modificar un elemento en una posición específica\n",
    "mi_lista[0] = 25\n",
    "print(\"Después de modificar:\", mi_lista)\n"
   ]
  },
  {
   "cell_type": "markdown",
   "metadata": {},
   "source": [
    "Operaciones con Diccionarios\n",
    "Diccionarios: Un diccionario es una colección desordenada de pares clave-valor. Las claves son únicas y se utilizan para acceder a los valores correspondientes.\n",
    "\n",
    "Agregar o modificar elementos en un diccionario\n",
    "Puedes agregar nuevos pares clave-valor o modificar valores existentes accediendo a la clave del diccionario."
   ]
  },
  {
   "cell_type": "code",
   "execution_count": 8,
   "metadata": {},
   "outputs": [
    {
     "name": "stdout",
     "output_type": "stream",
     "text": [
      "Después de agregar elementos: {'nombre': 'Juan', 'edad': 28}\n",
      "Después de modificar un valor: {'nombre': 'Juan', 'edad': 30}\n"
     ]
    }
   ],
   "source": [
    "# Crear un diccionario vacío\n",
    "mi_diccionario = {}\n",
    "\n",
    "# Agregar nuevos elementos\n",
    "mi_diccionario['nombre'] = 'Juan'\n",
    "mi_diccionario['edad'] = 28\n",
    "print(\"Después de agregar elementos:\", mi_diccionario['edad'])\n",
    "\n",
    "# Modificar un valor existente\n",
    "mi_diccionario['edad'] = 30\n",
    "print(\"Después de modificar un valor:\", mi_diccionario)\n"
   ]
  },
  {
   "cell_type": "code",
   "execution_count": 10,
   "metadata": {},
   "outputs": [
    {
     "name": "stdout",
     "output_type": "stream",
     "text": [
      "{}\n"
     ]
    }
   ],
   "source": [
    "\n",
    "print(dic)"
   ]
  },
  {
   "cell_type": "code",
   "execution_count": 13,
   "metadata": {},
   "outputs": [],
   "source": [
    "dic={}\n",
    "dic['nombre']=\"jaime\"\n",
    "dic['edad']=40\n",
    "dic['color']=\"azul\""
   ]
  },
  {
   "cell_type": "code",
   "execution_count": 12,
   "metadata": {},
   "outputs": [
    {
     "data": {
      "text/plain": [
       "{'nombre': 'jaime', 'edad': 40, 'color': 'azul'}"
      ]
     },
     "execution_count": 12,
     "metadata": {},
     "output_type": "execute_result"
    }
   ],
   "source": [
    "dic"
   ]
  },
  {
   "cell_type": "code",
   "execution_count": null,
   "metadata": {},
   "outputs": [],
   "source": [
    "Mi nombres es jaime, mi edad es 40 años y mi color favorito es azul"
   ]
  },
  {
   "cell_type": "code",
   "execution_count": 14,
   "metadata": {},
   "outputs": [
    {
     "name": "stdout",
     "output_type": "stream",
     "text": [
      "Mi nombre es jaime, mi edad es 40 y mi color favorito es azul\n"
     ]
    }
   ],
   "source": [
    "print(f\"Mi nombre es {dic['nombre']}, mi edad es {dic['edad']} y mi color favorito es {dic['color']}\")"
   ]
  },
  {
   "cell_type": "markdown",
   "metadata": {},
   "source": [
    "Quitar elementos de un diccionario\n",
    "Puedes quitar elementos de un diccionario utilizando los métodos pop() o del."
   ]
  },
  {
   "cell_type": "code",
   "execution_count": 32,
   "metadata": {},
   "outputs": [
    {
     "data": {
      "text/plain": [
       "{'nombre': 'jaime', 'color': 'azul', 'edad': 40}"
      ]
     },
     "execution_count": 32,
     "metadata": {},
     "output_type": "execute_result"
    }
   ],
   "source": [
    "dic"
   ]
  },
  {
   "cell_type": "code",
   "execution_count": 35,
   "metadata": {},
   "outputs": [],
   "source": [
    "dic['edad']=40"
   ]
  },
  {
   "cell_type": "code",
   "execution_count": 36,
   "metadata": {},
   "outputs": [
    {
     "name": "stdout",
     "output_type": "stream",
     "text": [
      "{'nombre': 'jaime', 'color': 'azul', 'edad': 40}\n",
      "Después de pop: {'nombre': 'jaime', 'color': 'azul'}\n",
      "Edad quitada: 40\n"
     ]
    }
   ],
   "source": [
    "# Quitar un elemento con pop() y obtener su valor\n",
    "print(dic)\n",
    "edad = dic.pop('edad')\n",
    "print(\"Después de pop:\", dic)\n",
    "print(\"Edad quitada:\", edad)"
   ]
  },
  {
   "cell_type": "code",
   "execution_count": 37,
   "metadata": {},
   "outputs": [
    {
     "name": "stdout",
     "output_type": "stream",
     "text": [
      "Después de del: {'color': 'azul'}\n"
     ]
    }
   ],
   "source": [
    "# Quitar un elemento con del\n",
    "del dic['nombre']\n",
    "print(\"Después de del:\", dic)"
   ]
  },
  {
   "cell_type": "markdown",
   "metadata": {},
   "source": [
    "Ejercicio 1: Encuesta de Preferencias\n",
    "Objetivo: Crear un programa que realice una encuesta simple, recopile respuestas y analice los datos utilizando estructuras condicionales, listas y diccionarios.\n",
    "\n",
    "Instrucciones:\n",
    "\n",
    "Entrada de Datos: Crea un programa que solicite al usuario su nombre, edad, y comida favorita utilizando la función input().\n",
    "\n",
    "Almacenamiento de Datos: Guarda los datos en un diccionario donde la clave sea el nombre del usuario y el valor sea otro diccionario que contenga la edad y la comida favorita.\n",
    "\n",
    "Análisis de Datos:\n",
    "\n",
    "Utiliza un ciclo for para recorrer el diccionario y cuenta cuántos usuarios prefieren cada comida.\n",
    "Imprime los resultados utilizando un formato adecuado."
   ]
  },
  {
   "cell_type": "code",
   "execution_count": null,
   "metadata": {},
   "outputs": [],
   "source": [
    "# Crear un diccionario vacío para almacenar los datos\n",
    "encuesta = {}\n",
    "\n",
    "# Solicitar datos a tres usuarios\n",
    "for i in range(3):\n",
    "    nombre = input(\"Ingresa tu nombre: \")\n",
    "    edad = int(input(\"Ingresa tu edad: \"))\n",
    "    comida_favorita = input(\"Ingresa tu comida favorita: \")\n",
    "\n",
    "    # Almacenar los datos en el diccionario\n",
    "    encuesta[nombre] = {'Edad': edad, 'Comida Favorita': comida_favorita}\n",
    "\n",
    "# Contar las preferencias de comida\n",
    "comidas = {}\n",
    "\n",
    "for datos in encuesta.values():\n",
    "    comida = datos['Comida Favorita']\n",
    "    if comida in comidas:\n",
    "        comidas[comida] += 1\n",
    "    else:\n",
    "        comidas[comida] = 1\n",
    "\n",
    "# Mostrar los resultados\n",
    "print(\"\\nResultados de la encuesta:\")\n",
    "for comida, conteo in comidas.items():\n",
    "    print(f\"{comida}: {conteo} voto(s)\")"
   ]
  },
  {
   "cell_type": "markdown",
   "metadata": {},
   "source": [
    "Funciones en Python\n",
    "\n",
    "Las funciones en Python son bloques de código reutilizables que realizan una tarea específica. Usar funciones permite organizar y simplificar tu código, haciendo que sea más modular y fácil de mantener.\n",
    "\n",
    "Definición básica de una función\n",
    "Para definir una función en Python, se usa la palabra clave def seguida del nombre de la función y paréntesis (). El código que debe ejecutarse cuando la función es llamada se coloca dentro de un bloque indentado."
   ]
  },
  {
   "cell_type": "code",
   "execution_count": 1,
   "metadata": {},
   "outputs": [],
   "source": [
    "def nombre_de_la_funcion():\n",
    "    # Código que realiza la función\n",
    "    print(\"Hola, esta es una función en Python.\")\n"
   ]
  },
  {
   "cell_type": "markdown",
   "metadata": {},
   "source": [
    "Llamar a una función\n",
    "Para ejecutar el código dentro de la función, simplemente la llamas por su nombre seguido de paréntesis ()."
   ]
  },
  {
   "cell_type": "code",
   "execution_count": 2,
   "metadata": {},
   "outputs": [
    {
     "name": "stdout",
     "output_type": "stream",
     "text": [
      "Hola, esta es una función en Python.\n"
     ]
    }
   ],
   "source": [
    "nombre_de_la_funcion()"
   ]
  },
  {
   "cell_type": "markdown",
   "metadata": {},
   "source": [
    "Funciones con parámetros\n",
    "Las funciones pueden aceptar parámetros (o argumentos) que permiten pasar información a la función."
   ]
  },
  {
   "cell_type": "code",
   "execution_count": 3,
   "metadata": {},
   "outputs": [],
   "source": [
    "def saludar(nombre):\n",
    "    print(f\"Hola, {nombre}!\")"
   ]
  },
  {
   "cell_type": "code",
   "execution_count": 4,
   "metadata": {},
   "outputs": [
    {
     "name": "stdout",
     "output_type": "stream",
     "text": [
      "Hola, Juan!\n"
     ]
    }
   ],
   "source": [
    "# Llamar a la función con un argumento\n",
    "saludar(\"Juan\")"
   ]
  },
  {
   "cell_type": "markdown",
   "metadata": {},
   "source": [
    "Funciones con múltiples parámetros\n",
    "Puedes definir funciones con múltiples parámetros separándolos con comas."
   ]
  },
  {
   "cell_type": "code",
   "execution_count": 5,
   "metadata": {},
   "outputs": [
    {
     "name": "stdout",
     "output_type": "stream",
     "text": [
      "La suma es: 8\n"
     ]
    }
   ],
   "source": [
    "def suma(a, b):\n",
    "    return a + b\n",
    "\n",
    "resultado = suma(3, 5)\n",
    "print(f\"La suma es: {resultado}\")\n"
   ]
  },
  {
   "cell_type": "markdown",
   "metadata": {},
   "source": [
    "Funciones con valores por defecto\n",
    "Puedes asignar valores por defecto a los parámetros, lo que permite que la función sea llamada sin todos los argumentos."
   ]
  },
  {
   "cell_type": "code",
   "execution_count": 6,
   "metadata": {},
   "outputs": [
    {
     "name": "stdout",
     "output_type": "stream",
     "text": [
      "Hola, invitado!\n",
      "Hola, María!\n"
     ]
    }
   ],
   "source": [
    "def saludar(nombre=\"invitado\"):\n",
    "    print(f\"Hola, {nombre}!\")\n",
    "\n",
    "saludar()           # Usará el valor por defecto\n",
    "saludar(\"María\")    # Sobrescribirá el valor por defecto\n"
   ]
  },
  {
   "cell_type": "markdown",
   "metadata": {},
   "source": [
    "Retorno de valores con return\n",
    "Las funciones pueden devolver un valor usando la palabra clave return."
   ]
  },
  {
   "cell_type": "code",
   "execution_count": 7,
   "metadata": {},
   "outputs": [
    {
     "name": "stdout",
     "output_type": "stream",
     "text": [
      "El producto es: 20\n"
     ]
    }
   ],
   "source": [
    "def multiplicar(x, y):\n",
    "    return x * y\n",
    "\n",
    "resultado = multiplicar(4, 5)\n",
    "print(f\"El producto es: {resultado}\")\n"
   ]
  },
  {
   "cell_type": "markdown",
   "metadata": {},
   "source": [
    "Funciones con múltiples valores de retorno\n",
    "Puedes retornar múltiples valores desde una función utilizando tuplas."
   ]
  },
  {
   "cell_type": "code",
   "execution_count": 8,
   "metadata": {},
   "outputs": [
    {
     "name": "stdout",
     "output_type": "stream",
     "text": [
      "Suma: 15, Resta: 5\n"
     ]
    }
   ],
   "source": [
    "def operaciones(a, b):\n",
    "    suma = a + b\n",
    "    resta = a - b\n",
    "    return suma, resta\n",
    "\n",
    "resultado_suma, resultado_resta = operaciones(10, 5)\n",
    "print(f\"Suma: {resultado_suma}, Resta: {resultado_resta}\")\n"
   ]
  },
  {
   "cell_type": "markdown",
   "metadata": {},
   "source": [
    "Ejercicio 1: \n",
    "Haga una Función que calcule el área de un círculo, pidiendo el radio del cículo en decimal."
   ]
  },
  {
   "cell_type": "markdown",
   "metadata": {},
   "source": [
    "Ejercicio 2:\n",
    "Haga una función que con el nombre, edad, color y hobbie, lo guarde en una tupla, y devuelva la frase \" Hola juan, tu edad es 18 años, tu color favorito es el azul y te gusta jugar futbol.\n",
    "\n",
    "aparte hay que generar las variables input que pidan estos datos para al final aplicar la función"
   ]
  }
 ],
 "metadata": {
  "kernelspec": {
   "display_name": "Python 3",
   "language": "python",
   "name": "python3"
  },
  "language_info": {
   "codemirror_mode": {
    "name": "ipython",
    "version": 3
   },
   "file_extension": ".py",
   "mimetype": "text/x-python",
   "name": "python",
   "nbconvert_exporter": "python",
   "pygments_lexer": "ipython3",
   "version": "3.12.2"
  }
 },
 "nbformat": 4,
 "nbformat_minor": 2
}
