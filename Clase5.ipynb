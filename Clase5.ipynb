{
 "cells": [
  {
   "cell_type": "markdown",
   "id": "8d2e23e3",
   "metadata": {},
   "source": [
    "# 3.5 Creación y uso de estructuras\n",
    "\n",
    "En muchos lenguajes de programación (como C o C++) existen las **estructuras (`struct`)**, que permiten agrupar diferentes tipos de datos bajo un mismo nombre.  \n",
    "\n",
    "En **Python**, aunque no existe la palabra reservada `struct`, se pueden usar diferentes mecanismos para crear estructuras de datos personalizadas:\n",
    "\n",
    "---\n",
    "\n",
    "## 1. Usando Diccionarios\n",
    "Un diccionario en Python permite almacenar pares **clave–valor** y se puede usar como una estructura simple.\n",
    "\n",
    "### Ejemplo:\n",
    "Representar un **estudiante** con nombre, edad y carrera:\n",
    "\n",
    "\n"
   ]
  },
  {
   "cell_type": "code",
   "execution_count": 2,
   "id": "92d3ed4c",
   "metadata": {},
   "outputs": [
    {
     "name": "stdout",
     "output_type": "stream",
     "text": [
      "Ana\n",
      "20\n",
      "Ingeniería\n"
     ]
    }
   ],
   "source": [
    "estudiante = {\n",
    "    \"nombre\": \"Ana\",\n",
    "    \"edad\": 20,\n",
    "    \"carrera\": \"Ingeniería\"\n",
    "}\n",
    "\n",
    "print(estudiante[\"nombre\"])  # Acceder al nombre\n",
    "print(estudiante[\"edad\"]) \n",
    "print(estudiante[\"carrera\"]) "
   ]
  },
  {
   "cell_type": "markdown",
   "id": "5cf92465",
   "metadata": {},
   "source": [
    "2. Usando Clases\n",
    "\n",
    "Las clases son una forma más potente de crear estructuras en Python, ya que permiten métodos además de atributos."
   ]
  },
  {
   "cell_type": "code",
   "execution_count": 5,
   "id": "68cfebca",
   "metadata": {},
   "outputs": [
    {
     "name": "stdout",
     "output_type": "stream",
     "text": [
      "Carlos\n",
      "22\n",
      "Ciencias de la Computación\n"
     ]
    }
   ],
   "source": [
    "class Estudiante:\n",
    "    def __init__(self, name, age, carrer):\n",
    "        self.nombre = name\n",
    "        self.edad = age\n",
    "        self.carrera = carrer\n",
    "\n",
    "# Crear un objeto tipo Estudiante\n",
    "alumno = Estudiante(\"Carlos\", 22, \"Ciencias de la Computación\")\n",
    "\n",
    "print(alumno.nombre)\n",
    "print(alumno.edad)\n",
    "print(alumno.carrera)\n"
   ]
  },
  {
   "cell_type": "markdown",
   "id": "f37e7277",
   "metadata": {},
   "source": [
    "3. Usando namedtuple\n",
    "\n",
    "El módulo collections incluye namedtuple, que permite crear estructuras ligeras parecidas a las tuplas, pero con nombres de campos."
   ]
  },
  {
   "cell_type": "code",
   "execution_count": 3,
   "id": "9d42461b",
   "metadata": {},
   "outputs": [
    {
     "name": "stdout",
     "output_type": "stream",
     "text": [
      "Lucía\n",
      "21\n",
      "Matemáticas\n"
     ]
    }
   ],
   "source": [
    "from collections import namedtuple\n",
    "\n",
    "Estudiante = namedtuple(\"Estudiante\", [\"nombre\", \"edad\", \"carrera\"])\n",
    "\n",
    "alumno = Estudiante(\"Lucía\", 21, \"Matemáticas\")\n",
    "\n",
    "print(alumno.nombre)\n",
    "print(alumno.edad)\n",
    "print(alumno.carrera)"
   ]
  },
  {
   "cell_type": "markdown",
   "id": "2f2c7c08",
   "metadata": {},
   "source": [
    "## 3.5.2 Arreglo de estructuras\n",
    "\n",
    "Un **arreglo de estructuras** es una colección (lista o arreglo) donde cada elemento es una **estructura** que contiene información organizada.  \n",
    "En Python podemos implementar esto usando:\n",
    "\n",
    "- **Listas de diccionarios**\n",
    "- **Listas de objetos (clases)**\n",
    "- **Listas de namedtuple**\n",
    "\n",
    "Esto permite almacenar y manejar múltiples registros relacionados, como estudiantes, productos o empleados.\n",
    "\n",
    "---\n",
    "\n",
    "##  1. Usando Listas de Diccionarios\n",
    "Cada elemento de la lista es un diccionario que representa una estructura.\n",
    "\n",
    "### Ejemplo:\n",
    "\n"
   ]
  },
  {
   "cell_type": "code",
   "execution_count": null,
   "id": "0a8809b4",
   "metadata": {},
   "outputs": [],
   "source": [
    "\n",
    "# Lista de estudiantes\n",
    "estudiantes = [\n",
    "    {\"nombre\": \"Ana\", \"edad\": 20, \"carrera\": \"Ingeniería\"},\n",
    "    {\"nombre\": \"Luis\", \"edad\": 22, \"carrera\": \"Matemáticas\"},\n",
    "    {\"nombre\": \"María\", \"edad\": 21, \"carrera\": \"Física\"}\n",
    "]\n",
    "\n",
    "# Recorrer el arreglo\n",
    "for est in estudiantes:\n",
    "    print(est[\"nombre\"], \"-\", est[\"carrera\"])"
   ]
  },
  {
   "cell_type": "markdown",
   "id": "aac4e623",
   "metadata": {},
   "source": [
    "2. Usando Listas de Objetos (Clases)\n",
    "\n",
    "Más recomendable cuando se necesitan métodos además de atributos."
   ]
  },
  {
   "cell_type": "code",
   "execution_count": null,
   "id": "8f483240",
   "metadata": {},
   "outputs": [],
   "source": [
    "class Producto:\n",
    "    def __init__(self, nombre, precio, cantidad):\n",
    "        self.nombre = nombre\n",
    "        self.precio = precio\n",
    "        self.cantidad = cantidad\n",
    "\n",
    "# Lista de productos\n",
    "inventario = [\n",
    "    Producto(\"Laptop\", 15000, 5),\n",
    "    Producto(\"Mouse\", 300, 20),\n",
    "    Producto(\"Teclado\", 700, 10)\n",
    "]\n",
    "\n",
    "# Recorrer el arreglo\n",
    "for p in inventario:\n",
    "    print(f\"{p.nombre}: ${p.precio} ({p.cantidad} piezas)\")\n"
   ]
  },
  {
   "cell_type": "markdown",
   "id": "b063aa94",
   "metadata": {},
   "source": [
    "3. Usando Listas de namedtuple\n",
    "\n",
    "Permite estructuras ligeras e inmutables."
   ]
  },
  {
   "cell_type": "code",
   "execution_count": null,
   "id": "8d99c638",
   "metadata": {},
   "outputs": [],
   "source": [
    "from collections import namedtuple\n",
    "\n",
    "Empleado = namedtuple(\"Empleado\", [\"id\", \"nombre\", \"puesto\"])\n",
    "\n",
    "# Lista de empleados\n",
    "empleados = [\n",
    "    Empleado(1, \"Carlos\", \"Gerente\"),\n",
    "    Empleado(2, \"Laura\", \"Analista\"),\n",
    "    Empleado(3, \"Pedro\", \"Programador\")\n",
    "]\n",
    "\n",
    "# Recorrer el arreglo\n",
    "for e in empleados:\n",
    "    print(f\"{e.id} - {e.nombre}, {e.puesto}\")\n"
   ]
  },
  {
   "cell_type": "markdown",
   "id": "438c7cab",
   "metadata": {},
   "source": [
    "# 3.5.3 Estructura de estructuras\n",
    "\n",
    "Una **estructura de estructuras** ocurre cuando dentro de una estructura se incluyen otras estructuras.  \n",
    "Esto permite modelar información más compleja y realista.  \n",
    "\n",
    "En Python, podemos implementarlo usando:\n",
    "- **Diccionarios dentro de diccionarios**\n",
    "- **Clases con atributos que son objetos**\n",
    "- **Clases con listas o arreglos como atributos**\n",
    "\n",
    "---\n",
    "\n",
    "## 1. Diccionarios dentro de diccionarios\n",
    "Podemos anidar diccionarios para representar jerarquías de datos.\n",
    "\n",
    "### Ejemplo:\n",
    "\n"
   ]
  },
  {
   "cell_type": "code",
   "execution_count": null,
   "id": "119455c4",
   "metadata": {},
   "outputs": [],
   "source": [
    "\n",
    "estudiante = {\n",
    "    \"nombre\": \"Ana\",\n",
    "    \"edad\": 20,\n",
    "    \"carrera\": \"Ingeniería\",\n",
    "    \"direccion\": {\n",
    "        \"calle\": \"Av. Principal\",\n",
    "        \"numero\": 123,\n",
    "        \"ciudad\": \"Puebla\"\n",
    "    }\n",
    "}\n",
    "\n",
    "print(estudiante[\"nombre\"])\n",
    "print(estudiante[\"direccion\"][\"ciudad\"])"
   ]
  },
  {
   "cell_type": "markdown",
   "id": "2d226570",
   "metadata": {},
   "source": [
    "2. Clases con otras estructuras\n",
    "\n",
    "Se pueden usar clases que contienen como atributos otras clases u objetos."
   ]
  },
  {
   "cell_type": "code",
   "execution_count": null,
   "id": "fbced1bb",
   "metadata": {},
   "outputs": [],
   "source": [
    "class Direccion:\n",
    "    def __init__(self, calle, numero, ciudad):\n",
    "        self.calle = calle\n",
    "        self.numero = numero\n",
    "        self.ciudad = ciudad\n",
    "\n",
    "class Estudiante:\n",
    "    def __init__(self, nombre, edad, carrera, direccion):\n",
    "        self.nombre = nombre\n",
    "        self.edad = edad\n",
    "        self.carrera = carrera\n",
    "        self.direccion = direccion\n",
    "\n",
    "# Crear objetos\n",
    "dir1 = Direccion(\"Av. Central\", 45, \"CDMX\")\n",
    "alumno1 = Estudiante(\"Luis\", 21, \"Matemáticas\", dir1)\n",
    "\n",
    "print(alumno1.nombre, \"-\", alumno1.direccion.ciudad)\n"
   ]
  },
  {
   "cell_type": "markdown",
   "id": "32e5b2d6",
   "metadata": {},
   "source": [
    "3. Estructuras con listas internas\n",
    "\n",
    "Una estructura puede contener listas o arreglos que representan colecciones."
   ]
  },
  {
   "cell_type": "code",
   "execution_count": null,
   "id": "6b4748a6",
   "metadata": {},
   "outputs": [],
   "source": [
    "class Estudiante:\n",
    "    def __init__(self, nombre, calificaciones):\n",
    "        self.nombre = nombre\n",
    "        self.calificaciones = calificaciones\n",
    "    \n",
    "    def promedio(self):\n",
    "        return sum(self.calificaciones) / len(self.calificaciones)\n",
    "\n",
    "alumno = Estudiante(\"María\", [90, 85, 78, 92])\n",
    "print(f\"{alumno.nombre} tiene promedio de {alumno.promedio():.2f}\")\n"
   ]
  },
  {
   "cell_type": "markdown",
   "id": "224748ce",
   "metadata": {},
   "source": [
    "## 3.5.4 Estructuras con arreglos\n",
    "\n",
    "Una **estructura con arreglos** es una estructura que contiene dentro de sí una colección de elementos organizados en forma de lista o arreglo.  \n",
    "Esto permite representar datos más complejos como:  \n",
    "- Un estudiante con varias calificaciones.  \n",
    "- Un cliente con una lista de compras.  \n",
    "- Un curso con varios alumnos inscritos.  \n",
    "\n",
    "---\n",
    "\n",
    "## 1. Diccionarios con arreglos\n",
    "Podemos guardar listas dentro de diccionarios para almacenar múltiples valores relacionados.\n",
    "\n",
    "### Ejemplo:\n",
    "\n"
   ]
  },
  {
   "cell_type": "code",
   "execution_count": null,
   "id": "5821042e",
   "metadata": {},
   "outputs": [],
   "source": [
    "\n",
    "curso = {\n",
    "    \"nombre\": \"Programación en Python\",\n",
    "    \"profesor\": \"Dr. López\",\n",
    "    \"alumnos\": [\"Ana\", \"Luis\", \"María\", \"Carlos\"]\n",
    "}\n",
    "\n",
    "print(\"Curso:\", curso[\"nombre\"])\n",
    "print(\"Lista de alumnos:\", curso[\"alumnos\"])"
   ]
  },
  {
   "cell_type": "markdown",
   "id": "e3aed338",
   "metadata": {},
   "source": [
    "2. Clases con listas internas\n",
    "\n",
    "Una clase puede contener como atributo un arreglo de datos."
   ]
  },
  {
   "cell_type": "code",
   "execution_count": null,
   "id": "4ee998fa",
   "metadata": {},
   "outputs": [],
   "source": [
    "class Estudiante:\n",
    "    def __init__(self, nombre, calificaciones):\n",
    "        self.nombre = nombre\n",
    "        self.calificaciones = calificaciones\n",
    "    \n",
    "    def promedio(self):\n",
    "        return sum(self.calificaciones) / len(self.calificaciones)\n",
    "\n",
    "alumno1 = Estudiante(\"Lucía\", [95, 88, 76, 100])\n",
    "print(f\"{alumno1.nombre} tiene promedio: {alumno1.promedio():.2f}\")\n"
   ]
  },
  {
   "cell_type": "markdown",
   "id": "adf55d4b",
   "metadata": {},
   "source": [
    "Listas de estructuras\n",
    "\n",
    "Podemos combinar listas con estructuras, es decir, una colección de objetos estructurados."
   ]
  },
  {
   "cell_type": "code",
   "execution_count": null,
   "id": "8be8a1a6",
   "metadata": {},
   "outputs": [],
   "source": [
    "class Producto:\n",
    "    def __init__(self, nombre, precio):\n",
    "        self.nombre = nombre\n",
    "        self.precio = precio\n",
    "\n",
    "# Lista de productos en un carrito\n",
    "carrito = [\n",
    "    Producto(\"Laptop\", 15000),\n",
    "    Producto(\"Mouse\", 350),\n",
    "    Producto(\"Teclado\", 700)\n",
    "]\n",
    "\n",
    "for p in carrito:\n",
    "    print(f\"{p.nombre}: ${p.precio}\")\n"
   ]
  }
 ],
 "metadata": {
  "kernelspec": {
   "display_name": "Python 3",
   "language": "python",
   "name": "python3"
  },
  "language_info": {
   "codemirror_mode": {
    "name": "ipython",
    "version": 3
   },
   "file_extension": ".py",
   "mimetype": "text/x-python",
   "name": "python",
   "nbconvert_exporter": "python",
   "pygments_lexer": "ipython3",
   "version": "3.13.5"
  }
 },
 "nbformat": 4,
 "nbformat_minor": 5
}
