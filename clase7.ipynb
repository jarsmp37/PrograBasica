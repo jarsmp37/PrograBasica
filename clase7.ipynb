{
 "cells": [
  {
   "cell_type": "markdown",
   "id": "d82bddf4",
   "metadata": {},
   "source": [
    "# 🧭 4.2 Apuntadores en Python\n",
    "\n",
    "En lenguajes como **C o C++**, los **apuntadores (pointers)** son variables que almacenan **la dirección de memoria** de otro valor u objeto.  \n",
    "En **Python**, el manejo de memoria es **automático** y **no existen apuntadores explícitos**, pero **sí se maneja el concepto de referencias**, que cumplen una función similar.\n",
    "\n",
    "---\n",
    "\n",
    "## 🔹 ¿Qué es una referencia?\n",
    "\n",
    "En Python, cuando asignamos una variable a otra, **no se copia el valor**, sino que **ambas variables apuntan al mismo objeto en memoria**.  \n",
    "Esto significa que si modificamos una, la otra también se ve afectada.\n",
    "\n",
    "### 🧠 Ejemplo:\n",
    "\n",
    "```python\n",
    "a = [1, 2, 3]\n",
    "b = a  # b apunta al mismo objeto que a\n",
    "b[0] = 99\n",
    "\n",
    "print(\"a:\", a)\n",
    "print(\"b:\", b)\n"
   ]
  },
  {
   "cell_type": "markdown",
   "id": "883f95ba",
   "metadata": {},
   "source": [
    "Identificadores de memoria: id()\n",
    "\n",
    "Python asigna un identificador único a cada objeto en memoria.\n",
    "Podemos verlo usando la función id()."
   ]
  },
  {
   "cell_type": "code",
   "execution_count": 1,
   "id": "e103c074",
   "metadata": {},
   "outputs": [
    {
     "name": "stdout",
     "output_type": "stream",
     "text": [
      "ID de x: 2533394912000\n",
      "ID de y: 2533394912000\n"
     ]
    }
   ],
   "source": [
    "x = [10, 20, 30]\n",
    "y = x\n",
    "print(\"ID de x:\", id(x))\n",
    "print(\"ID de y:\", id(y))\n"
   ]
  },
  {
   "cell_type": "markdown",
   "id": "5d2d7ae0",
   "metadata": {},
   "source": [
    "Copias y referencias\n",
    "\n",
    "Si queremos crear una copia independiente (que no apunte al mismo lugar en memoria), debemos usar el método .copy() o el módulo copy."
   ]
  },
  {
   "cell_type": "code",
   "execution_count": 2,
   "id": "d6beec53",
   "metadata": {},
   "outputs": [
    {
     "name": "stdout",
     "output_type": "stream",
     "text": [
      "2533394912576 2533394920448 2533394916416\n"
     ]
    }
   ],
   "source": [
    "import copy\n",
    "\n",
    "lista1 = [1, 2, 3]\n",
    "lista2 = lista1.copy()     # Copia superficial\n",
    "lista3 = copy.deepcopy(lista1)  # Copia profunda\n",
    "\n",
    "print(id(lista1), id(lista2), id(lista3))\n"
   ]
  },
  {
   "cell_type": "markdown",
   "id": "f3b9be86",
   "metadata": {},
   "source": [
    "| Tipo                              | Descripción                                                                        | Efecto                                   |\n",
    "| --------------------------------- | ---------------------------------------------------------------------------------- | ---------------------------------------- |\n",
    "| **Copia superficial (`copy()`)**  | Crea un nuevo objeto, pero los elementos internos siguen apuntando al mismo lugar. | Cambios en subelementos afectan a ambas. |\n",
    "| **Copia profunda (`deepcopy()`)** | Crea una copia total, incluyendo los objetos anidados.                             | Completamente independiente.             |\n"
   ]
  },
  {
   "cell_type": "markdown",
   "id": "b3090bfd",
   "metadata": {},
   "source": [
    "| Concepto                        | C/C++                            | Python                                 |\n",
    "| ------------------------------- | -------------------------------- | -------------------------------------- |\n",
    "| Acceso a direcciones de memoria | Sí (usando `&` y `*`)            | No directo                             |\n",
    "| Manejo de memoria               | Manual                           | Automático                             |\n",
    "| Apuntadores                     | Explícitos                       | Implícitos (referencias)               |\n",
    "| Seguridad                       | Menos seguro (errores de acceso) | Más seguro (controlado por intérprete) |\n"
   ]
  },
  {
   "cell_type": "code",
   "execution_count": null,
   "id": "67fbb2e1",
   "metadata": {},
   "outputs": [],
   "source": [
    "a = [5, 10, 15]\n",
    "b = a        # b apunta al mismo objeto\n",
    "c = a.copy() # c es una copia independiente\n",
    "\n",
    "b.append(20)\n",
    "c.append(99)\n",
    "\n",
    "print(\"a:\", a)\n",
    "print(\"b:\", b)\n",
    "print(\"c:\", c)\n"
   ]
  },
  {
   "cell_type": "markdown",
   "id": "1ed40046",
   "metadata": {},
   "source": [
    "Ejercicio propuesto\n",
    "\n",
    "Crea un programa que:\n",
    "\n",
    "Genere una lista con números del 1 al 5.\n",
    "\n",
    "Cree una variable que apunte a esa lista.\n",
    "\n",
    "Cree otra variable que sea una copia independiente.\n",
    "\n",
    "Modifica una y muestra cómo cambian o no las otras.\n",
    "\n",
    "Muestra los identificadores de memoria con id()."
   ]
  },
  {
   "cell_type": "markdown",
   "id": "e55f350e",
   "metadata": {},
   "source": [
    "# 4.3 Programación Modular\n",
    "\n",
    "La **programación modular** es un paradigma que consiste en **dividir un programa grande en partes más pequeñas y manejables**, llamadas **módulos**.  \n",
    "Cada módulo cumple una **función específica** y puede ser desarrollado, probado y mantenido de forma independiente.\n",
    "\n",
    "---\n",
    "\n",
    "## Objetivo\n",
    "\n",
    "Facilitar la **organización del código**, mejorar la **legibilidad**, **reutilización** y **mantenimiento** del programa.\n",
    "\n",
    "---\n",
    "\n",
    "## Características principales\n",
    "\n",
    "1. **División del programa** en partes (módulos o funciones).  \n",
    "2. **Independencia** entre módulos: cada uno realiza una tarea específica.  \n",
    "3. **Reutilización** de código en otros programas.  \n",
    "4. **Facilidad para depurar y mantener** el código.  \n",
    "5. **Comunicación controlada** entre módulos (a través de parámetros y valores de retorno).\n",
    "\n",
    "---\n",
    "\n",
    "## Ventajas de la programación modular\n",
    "\n",
    "| Ventaja | Descripción |\n",
    "|----------|-------------|\n",
    "| **Claridad** | El código se organiza en secciones lógicas más fáciles de entender. |\n",
    "| **Mantenimiento** | Permite modificar partes del programa sin afectar el resto. |\n",
    "| **Reutilización** | Los módulos pueden ser usados en diferentes programas. |\n",
    "| **Trabajo en equipo** | Varios programadores pueden trabajar en distintos módulos al mismo tiempo. |\n",
    "| **Depuración** | Los errores se localizan y corrigen más fácilmente. |\n",
    "\n",
    "---\n",
    "\n",
    "## Estructura de un programa modular\n",
    "\n",
    "En Python, los módulos se implementan normalmente como **funciones** o **archivos separados (.py)** que agrupan funciones relacionadas.\n",
    "\n",
    "Ejemplo básico:\n",
    "\n",
    "```python\n",
    "# módulo: operaciones.py\n",
    "\n",
    "def suma(a, b):\n",
    "    return a + b\n",
    "\n",
    "def resta(a, b):\n",
    "    return a - b\n",
    "\n",
    "def producto(a, b):\n",
    "    return a * b\n"
   ]
  },
  {
   "cell_type": "code",
   "execution_count": null,
   "id": "69407ea4",
   "metadata": {},
   "outputs": [],
   "source": [
    "# programa principal main\n",
    "import operaciones\n",
    "\n",
    "x = 5\n",
    "y = 3\n",
    "\n",
    "print(\"Suma:\", operaciones.suma(x, y))\n",
    "print(\"Resta:\", operaciones.resta(x, y))\n",
    "print(\"Producto:\", operaciones.producto(x, y))\n"
   ]
  },
  {
   "cell_type": "markdown",
   "id": "edc2fd9e",
   "metadata": {},
   "source": [
    "Modularización mediante funciones\n",
    "\n",
    "En lugar de escribir todo el código en un solo bloque, se crean funciones para cada tarea."
   ]
  },
  {
   "cell_type": "code",
   "execution_count": null,
   "id": "65eba43d",
   "metadata": {},
   "outputs": [],
   "source": [
    "def solicitar_datos():\n",
    "    nombre = input(\"Ingrese su nombre: \")\n",
    "    edad = int(input(\"Ingrese su edad: \"))\n",
    "    return nombre, edad\n",
    "\n",
    "def mostrar_datos(nombre, edad):\n",
    "    print(f\"Hola {nombre}, tienes {edad} años.\")\n",
    "\n",
    "def main():\n",
    "    n, e = solicitar_datos()\n",
    "    mostrar_datos(n, e)\n",
    "\n",
    "main()\n"
   ]
  },
  {
   "cell_type": "markdown",
   "id": "00c406eb",
   "metadata": {},
   "source": [
    "Importación de módulos\n",
    "\n",
    "Python permite importar módulos ya creados o del sistema.\n",
    "Algunos ejemplos:"
   ]
  },
  {
   "cell_type": "code",
   "execution_count": null,
   "id": "48885821",
   "metadata": {},
   "outputs": [],
   "source": [
    "import math\n",
    "print(math.sqrt(25))  # Raíz cuadrada\n",
    "\n",
    "from random import randint\n",
    "print(randint(1, 10))  # Número aleatorio\n"
   ]
  },
  {
   "cell_type": "markdown",
   "id": "0aa5a4e3",
   "metadata": {},
   "source": [
    "Ejercicio propuesto\n",
    "\n",
    "Crea un módulo llamado calculadora.py con las funciones:\n",
    "\n",
    "suma(a, b)\n",
    "\n",
    "resta(a, b)\n",
    "\n",
    "multiplicacion(a, b)\n",
    "\n",
    "division(a, b)\n",
    "\n",
    "Crea un archivo main.py que importe el módulo y pida al usuario dos números para aplicar las operaciones.\n",
    "\n",
    "Prueba que tu código funcione correctamente y analiza los beneficios de estructurarlo por módulos."
   ]
  }
 ],
 "metadata": {
  "kernelspec": {
   "display_name": "Python 3",
   "language": "python",
   "name": "python3"
  },
  "language_info": {
   "codemirror_mode": {
    "name": "ipython",
    "version": 3
   },
   "file_extension": ".py",
   "mimetype": "text/x-python",
   "name": "python",
   "nbconvert_exporter": "python",
   "pygments_lexer": "ipython3",
   "version": "3.13.5"
  }
 },
 "nbformat": 4,
 "nbformat_minor": 5
}
